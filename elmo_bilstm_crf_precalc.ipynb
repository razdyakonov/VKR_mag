{
 "cells": [
  {
   "cell_type": "code",
   "execution_count": 1,
   "id": "2b31c35a",
   "metadata": {},
   "outputs": [
    {
     "name": "stderr",
     "output_type": "stream",
     "text": [
      "c:\\Users\\Egor\\Anaconda3\\lib\\site-packages\\tensorflow_addons\\utils\\tfa_eol_msg.py:23: UserWarning: \n",
      "\n",
      "TensorFlow Addons (TFA) has ended development and introduction of new features.\n",
      "TFA has entered a minimal maintenance and release mode until a planned end of life in May 2024.\n",
      "Please modify downstream libraries to take dependencies from other repositories in our TensorFlow community (e.g. Keras, Keras-CV, and Keras-NLP). \n",
      "\n",
      "For more information see: https://github.com/tensorflow/addons/issues/2807 \n",
      "\n",
      "  warnings.warn(\n"
     ]
    }
   ],
   "source": [
    "import numpy as np\n",
    "import os\n",
    "from tqdm.notebook import tqdm\n",
    "import seaborn as sns\n",
    "import matplotlib.pyplot as plt\n",
    "import tensorflow as tf\n",
    "import tensorflow_hub as hub\n",
    "from tensorflow import keras\n",
    "from keras.layers import LSTM, Dense, TimeDistributed, Dropout, Bidirectional\n",
    "from keras.regularizers import L1L2\n",
    "from tf2crf import CRF\n",
    "\n",
    "\n",
    "import keras.backend as K\n",
    "import pandas as pd\n",
    "import pickle"
   ]
  },
  {
   "cell_type": "code",
   "execution_count": 2,
   "id": "ea9ad723",
   "metadata": {},
   "outputs": [],
   "source": [
    "total_size = 100_000\n",
    "file_n = total_size // 1000"
   ]
  },
  {
   "cell_type": "code",
   "execution_count": 3,
   "id": "bfe79fa9",
   "metadata": {},
   "outputs": [],
   "source": [
    "y = []\n",
    "\n",
    "with open('data/nerus/nerus_y_100_pad.pickle', 'rb') as f:\n",
    "    y.extend(pickle.load(f)[:total_size//2])\n",
    "\n",
    "with open(r'C:\\Users\\Egor\\Desktop\\python\\VKR\\data\\wikiner\\wikiner_y_100_pad.pickle', 'rb') as f:\n",
    "    y.extend(pickle.load(f)[:total_size//2])"
   ]
  },
  {
   "cell_type": "code",
   "execution_count": 4,
   "id": "47b24150",
   "metadata": {},
   "outputs": [],
   "source": [
    "DATA_DIR = r'D:\\VKR_data\\data\\x_elmo_emb'\n",
    "FILE_LIST_ALL = np.array(os.listdir(DATA_DIR))\n",
    "FILE_LIST = np.hstack((FILE_LIST_ALL[:file_n//2], FILE_LIST_ALL[100:100+file_n//2]))"
   ]
  },
  {
   "cell_type": "code",
   "execution_count": 5,
   "id": "0367012b",
   "metadata": {},
   "outputs": [],
   "source": [
    "# Перемешиваем так, чтобы в выборках оказалось равное кол-во экземпляров каждого датасета\n",
    "shuffled_idx = []\n",
    "idx_1 = np.random.RandomState(seed=32).permutation(file_n//2)\n",
    "idx_2 = np.random.RandomState(seed=32).permutation(np.arange(file_n//2, file_n))\n",
    "\n",
    "for i in range(file_n//2):\n",
    "    shuffled_idx.extend([idx_1[i], idx_2[i]])\n",
    "shuffled_idx = np.array(shuffled_idx)"
   ]
  },
  {
   "cell_type": "code",
   "execution_count": 6,
   "id": "47ce9cd2",
   "metadata": {},
   "outputs": [],
   "source": [
    "y_shuffled = []\n",
    "for idx in shuffled_idx:\n",
    "    y_shuffled.extend(y[idx*1000:idx*1000+1000])"
   ]
  },
  {
   "cell_type": "code",
   "execution_count": 7,
   "id": "44a06ee1",
   "metadata": {},
   "outputs": [],
   "source": [
    "def load_file(filepath):\n",
    "    with open(filepath, 'rb') as f:\n",
    "        data = np.load(f)\n",
    "    return data\n",
    "    \n",
    "def data_gen():\n",
    "    i = 0\n",
    "    for filename in FILE_LIST[shuffled_idx]:\n",
    "        data = load_file(DATA_DIR+'/'+filename)\n",
    "        for x in data:\n",
    "            yield x, y_shuffled[i]\n",
    "            i += 1"
   ]
  },
  {
   "cell_type": "code",
   "execution_count": 8,
   "id": "bb3f66de",
   "metadata": {},
   "outputs": [],
   "source": [
    "BATCH_SIZE = 400\n",
    "\n",
    "dataset = tf.data.Dataset.from_generator(\n",
    "    data_gen,\n",
    "    output_signature=(\n",
    "        tf.TensorSpec(shape=(100, 1024), dtype=tf.float32),\n",
    "        tf.TensorSpec(shape=(100,), dtype=tf.int8)),\n",
    ").batch(BATCH_SIZE)"
   ]
  },
  {
   "cell_type": "code",
   "execution_count": 9,
   "id": "6fe63295",
   "metadata": {},
   "outputs": [],
   "source": [
    "TRAIN_STEPS = int(total_size * 0.8) // BATCH_SIZE\n",
    "TEST_STEPS  = int(total_size * 0.2) // BATCH_SIZE\n",
    "\n",
    "train_ds = dataset.take(TRAIN_STEPS).repeat().prefetch(tf.data.AUTOTUNE)\n",
    "test_ds = dataset.skip(TRAIN_STEPS).take(TEST_STEPS).repeat().prefetch(tf.data.AUTOTUNE)"
   ]
  },
  {
   "cell_type": "code",
   "execution_count": 10,
   "id": "93e38559",
   "metadata": {},
   "outputs": [],
   "source": [
    "class CustomNonPaddingTokenLoss(keras.losses.Loss):\n",
    "    def __init__(self, name=\"custom_ner_loss\"):\n",
    "        super().__init__(name=name)\n",
    "\n",
    "    def call(self, y_true, y_pred):\n",
    "        loss_fn = keras.losses.SparseCategoricalCrossentropy()\n",
    "        loss = loss_fn(y_true, y_pred)\n",
    "        mask = tf.cast((y_true != 0), dtype=tf.float32)\n",
    "        \n",
    "        return loss * mask\n",
    "\n",
    "custom_loss = CustomNonPaddingTokenLoss()"
   ]
  },
  {
   "cell_type": "code",
   "execution_count": 11,
   "id": "4890bce1",
   "metadata": {},
   "outputs": [],
   "source": [
    "class NERModel(keras.Model):\n",
    "    def __init__(\n",
    "        self, num_tags, maxlen=100, embed_dim=1024\n",
    "    ):\n",
    "        super().__init__()\n",
    "        self.bilstm = Bidirectional(LSTM(units=embed_dim, return_sequences=True,),\n",
    "                                    input_shape=(maxlen, embed_dim,))\n",
    "        self.dropout1 = Dropout(0.3)\n",
    "        self.lstm =LSTM(units=embed_dim * 2, return_sequences=True, kernel_regularizer=L1L2(l1=0.01, l2=0.0))\n",
    "        self.dropout2 = Dropout(0.3)\n",
    "        self.dense = TimeDistributed(Dense(512, activation=\"relu\", kernel_regularizer=L1L2(l1=0.01, l2=0.0)))\n",
    "        self.dropout3 = Dropout(0.5)\n",
    "        self.crf = CRF(num_tags)\n",
    "\n",
    "    def call(self, inputs, training=False):\n",
    "        x = self.bilstm(inputs)\n",
    "        x = self.dropout1(x)\n",
    "        x = self.lstm(x)\n",
    "        x = self.dropout2(x)\n",
    "        x = self.dense(x)\n",
    "        x = self.dropout3(x)\n",
    "        x = self.crf(x)\n",
    "        \n",
    "        return x"
   ]
  },
  {
   "cell_type": "code",
   "execution_count": 12,
   "id": "7baac672",
   "metadata": {},
   "outputs": [],
   "source": [
    "# from typing import Union\n",
    "# from tensorflow_addons.text.crf import crf_log_likelihood\n",
    "\n",
    "# def unpack_data(data):\n",
    "#     if len(data) == 2:\n",
    "#         return data[0], data[1], None\n",
    "#     elif len(data) == 3:\n",
    "#         return data\n",
    "#     else:\n",
    "#         raise TypeError(\"Expected data to be a tuple of size 2 or 3.\")\n",
    "\n",
    "# class ModelWithCRFLoss(tf.keras.Model):\n",
    "\n",
    "#     def __init__(self, base_model, sparse_target=True, metric: Union[str, object] = 'accuracy'):\n",
    "#         super().__init__()\n",
    "#         self.base_model = base_model\n",
    "#         self.model_layers = [layer for layer in self.base_model.layers]\n",
    "#         self.sparse_target = sparse_target\n",
    "#         self.metric = metric\n",
    "#         if isinstance(metric, str):\n",
    "#             if metric == 'accuracy':\n",
    "#                 self.metrics_fn = tf.keras.metrics.Accuracy(name='accuracy')\n",
    "#             else:\n",
    "#                 raise ValueError('unknown metric name')\n",
    "#         else:\n",
    "#             self.metrics_fn = self.metric\n",
    "#         self.loss_tracker = tf.keras.metrics.Mean(name='loss')\n",
    "\n",
    "#     def call(self, inputs, training=False):\n",
    "#         output = inputs\n",
    "#         for layer in self.model_layers:\n",
    "#             output = layer(output)\n",
    "#         if training:\n",
    "#             return output\n",
    "#         else:\n",
    "#             return output[0]\n",
    "\n",
    "#     def compute_loss(self, x, y, training=False):\n",
    "#         viterbi_sequence, potentials, sequence_length, chain_kernel = self(x, training=training)\n",
    "#         # we now add the CRF loss:\n",
    "#         crf_loss = -crf_log_likelihood(potentials, y, sequence_length, chain_kernel)[0]\n",
    "#         return viterbi_sequence, sequence_length, tf.reduce_mean(crf_loss)\n",
    "\n",
    "#     def train_step(self, data):\n",
    "#         x, y, sample_weight = unpack_data(data)\n",
    "#         # y : '(batch_size, seq_length)'\n",
    "#         if self.sparse_target:\n",
    "#             assert len(y.shape) == 2\n",
    "#         else:\n",
    "#             y = tf.argmax(y, axis=-1)\n",
    "#         with tf.GradientTape() as tape:\n",
    "#             viterbi_sequence, sequence_length, crf_loss = self.compute_loss(x, y, training=True)\n",
    "#             loss = crf_loss + tf.cast(tf.reduce_sum(self.losses), crf_loss.dtype)\n",
    "#         gradients = tape.gradient(loss, self.trainable_variables)\n",
    "#         self.optimizer.apply_gradients(zip(gradients, self.trainable_variables))\n",
    "#         self.loss_tracker.update_state(loss)\n",
    "#         self.metrics_fn.update_state(y, viterbi_sequence, tf.sequence_mask(sequence_length, y.shape[1]))\n",
    "#         return {\"loss\": self.loss_tracker.result(), self.metrics_fn.name: self.metrics_fn.result()}\n",
    "\n",
    "#     @property\n",
    "#     def metrics(self):\n",
    "#         return [self.loss_tracker, self.metrics_fn]\n",
    "\n",
    "#     def test_step(self, data):\n",
    "#         x, y, sample_weight = unpack_data(data)\n",
    "#         # y : '(batch_size, seq_length)'\n",
    "#         if self.sparse_target:\n",
    "#             assert len(y.shape) == 2\n",
    "#         else:\n",
    "#             y = tf.argmax(y, axis=-1)\n",
    "#         viterbi_sequence, sequence_length, crf_loss = self.compute_loss(x, y, training=True)\n",
    "#         loss = crf_loss + tf.cast(tf.reduce_sum(self.losses), crf_loss.dtype)\n",
    "#         self.loss_tracker.update_state(loss)\n",
    "#         self.metrics_fn.update_state(y, viterbi_sequence, tf.sequence_mask(sequence_length, y.shape[1]))\n",
    "#         return {\"loss\": self.loss_tracker.result(), f'{self.metrics_fn.name}': self.metrics_fn.result()}"
   ]
  },
  {
   "cell_type": "code",
   "execution_count": 13,
   "id": "08dc4164",
   "metadata": {},
   "outputs": [],
   "source": [
    "from typing import Union\n",
    "from tensorflow_addons.text.crf import crf_log_likelihood\n",
    "\n",
    "def unpack_data(data):\n",
    "    if len(data) == 2:\n",
    "        return data[0], data[1], None\n",
    "    elif len(data) == 3:\n",
    "        return data\n",
    "    else:\n",
    "        raise TypeError(\"Expected data to be a tuple of size 2 or 3.\")\n",
    "\n",
    "class ModelWithCRFLoss(tf.keras.Model):\n",
    "\n",
    "    def __init__(self, base_model, sparse_target=True, metrics_fn=tf.keras.metrics.Accuracy(name='accuracy')):\n",
    "        super().__init__()\n",
    "        self.base_model = base_model\n",
    "        self.model_layers = [layer for layer in self.base_model.layers]\n",
    "        self.sparse_target = sparse_target\n",
    "        self.metrics_fn = metrics_fn\n",
    "        self.loss_tracker = tf.keras.metrics.Mean(name='loss')\n",
    "\n",
    "    def call(self, inputs, training=False):\n",
    "        output = inputs\n",
    "        for layer in self.model_layers:\n",
    "            output = layer(output)\n",
    "        if training:\n",
    "            return output\n",
    "        else:\n",
    "            return output[0]\n",
    "\n",
    "    def compute_loss(self, x, y, training=False):\n",
    "        viterbi_sequence, potentials, sequence_length, chain_kernel = self(x, training=training)\n",
    "        # we now add the CRF loss:\n",
    "        crf_loss = -crf_log_likelihood(potentials, y, sequence_length, chain_kernel)[0]\n",
    "        return viterbi_sequence, sequence_length, tf.reduce_mean(crf_loss)\n",
    "\n",
    "    def train_step(self, data):\n",
    "        x, y, sample_weight = unpack_data(data)\n",
    "        # y : '(batch_size, seq_length)'\n",
    "        if self.sparse_target:\n",
    "            assert len(y.shape) == 2\n",
    "        else:\n",
    "            y = tf.argmax(y, axis=-1)\n",
    "        with tf.GradientTape() as tape:\n",
    "            viterbi_sequence, sequence_length, crf_loss = self.compute_loss(x, y, training=True)\n",
    "            loss = crf_loss + tf.cast(tf.reduce_sum(self.losses), crf_loss.dtype)\n",
    "        gradients = tape.gradient(loss, self.trainable_variables)\n",
    "        self.optimizer.apply_gradients(zip(gradients, self.trainable_variables))\n",
    "        self.loss_tracker.update_state(loss)\n",
    "        self.metrics_fn.update_state(y, viterbi_sequence, tf.sequence_mask(sequence_length, y.shape[1]))\n",
    "        return {\"loss\": self.loss_tracker.result(), self.metrics_fn.name: self.metrics_fn.result()}\n",
    "\n",
    "    @property\n",
    "    def metrics(self):\n",
    "        return [self.loss_tracker, self.metrics_fn]\n",
    "\n",
    "    def test_step(self, data):\n",
    "        x, y, sample_weight = unpack_data(data)\n",
    "        # y : '(batch_size, seq_length)'\n",
    "        if self.sparse_target:\n",
    "            assert len(y.shape) == 2\n",
    "        else:\n",
    "            y = tf.argmax(y, axis=-1)\n",
    "        viterbi_sequence, sequence_length, crf_loss = self.compute_loss(x, y, training=True)\n",
    "        loss = crf_loss + tf.cast(tf.reduce_sum(self.losses), crf_loss.dtype)\n",
    "        self.loss_tracker.update_state(loss)\n",
    "        self.metrics_fn.update_state(y, viterbi_sequence, tf.sequence_mask(sequence_length, y.shape[1]))\n",
    "        return {\"loss\": self.loss_tracker.result(), f'{self.metrics_fn.name}': self.metrics_fn.result()}"
   ]
  },
  {
   "cell_type": "code",
   "execution_count": 14,
   "id": "6bc28098",
   "metadata": {},
   "outputs": [],
   "source": [
    "class MacroF1(keras.metrics.Metric):\n",
    "\n",
    "  def __init__(self, n_tags, name='macro_f1', **kwargs):\n",
    "    super().__init__(name=name, **kwargs)\n",
    "    self.n_tags=n_tags\n",
    "    self.macro_f = self.add_weight(name='macro_f1', initializer='zeros')\n",
    "\n",
    "  def recall_m(self, y_true, y_pred):\n",
    "        TP = K.sum(K.round(y_true * y_pred))\n",
    "        Positives = K.sum(K.round(y_true))\n",
    "\n",
    "        recall = TP / (Positives+K.epsilon())\n",
    "        return recall\n",
    "\n",
    "  def precision_m(self, y_true, y_pred):\n",
    "      TP = K.sum(K.round(K.clip(y_true * y_pred, 0, 1)))\n",
    "      Pred_Positives = K.sum(K.round(K.clip(y_pred, 0, 1)))\n",
    "\n",
    "      precision = TP / (Pred_Positives+K.epsilon())\n",
    "      return precision\n",
    "\n",
    "  def update_state(self, y_true, y_pred, sample_weight=None):\n",
    "    y_true = tf.one_hot(tf.cast(y_true, 'uint8'), depth=self.n_tags)\n",
    "    y_pred = tf.one_hot(tf.cast(y_pred, 'uint8'), depth=self.n_tags)\n",
    "\n",
    "    f_classes = []\n",
    "    for i in range(self.n_tags):   # Считаем f_score для каждого класса и усредняем\n",
    "        y_t = y_true[:, :, i]\n",
    "        y_p = y_pred[:, :, i]\n",
    "        precision, recall = self.precision_m(y_t, y_p), self.recall_m(y_t, y_p)\n",
    "        f = 2*((precision*recall)/(precision+recall+K.epsilon()))\n",
    "        f_classes.append(f)\n",
    "    self.macro_f = tf.math.reduce_mean(f_classes)\n",
    "\n",
    "  def result(self):\n",
    "    return self.macro_f\n",
    "\n",
    "  def reset_state(self):\n",
    "    self.macro_f = tf.zeros([1])"
   ]
  },
  {
   "cell_type": "code",
   "execution_count": 15,
   "id": "8e373afe",
   "metadata": {},
   "outputs": [],
   "source": [
    "# class Metrics(keras.callbacks.Callback):\n",
    "#     def on_train_begin(self, logs={}):\n",
    "#         self._data = []\n",
    "\n",
    "#     def on_epoch_end(self, batch, logs={}):\n",
    "#         X_val, y_val = self.validation_data[0], self.validation_data[1]\n",
    "#         y_predict = np.asarray(model.predict(X_val))\n",
    "\n",
    "#         y_val = tf.one_hot(tf.cast(y_val, 'uint8'), depth=8)\n",
    "#         y_predict = np.argmax(y_predict, axis=1)\n",
    "\n",
    "#         f_classes = []\n",
    "#         for i in range(8):   # Считаем f_score для каждого класса и усредняем\n",
    "#             y_t = y_val[:, :, i]\n",
    "#             y_p = y_predict[:, :, i]\n",
    "#             precision, recall = precision_m(y_t, y_p), recall_m(y_t, y_p)\n",
    "#             f = 2*((precision*recall)/(precision+recall+K.epsilon()))\n",
    "#             f_classes.append(f)\n",
    "\n",
    "#         self._data.append({\n",
    "#             'val_rocauc': roc_auc_score(y_val, y_predict),\n",
    "#         })\n",
    "#         return\n",
    "\n",
    "#     def recall_m(y_true, y_pred):\n",
    "#         TP = K.sum(K.round(y_true * y_pred))\n",
    "#         Positives = K.sum(K.round(y_true))\n",
    "\n",
    "#         recall = TP / (Positives+K.epsilon())\n",
    "#         return recall\n",
    "    \n",
    "#     def precision_m(y_true, y_pred):\n",
    "#         TP = K.sum(K.round(K.clip(y_true * y_pred, 0, 1)))\n",
    "#         Pred_Positives = K.sum(K.round(K.clip(y_pred, 0, 1)))\n",
    "\n",
    "#         precision = TP / (Pred_Positives+K.epsilon())\n",
    "#         return precision\n",
    "\n",
    "#     def get_data(self):\n",
    "#         return self._data"
   ]
  },
  {
   "cell_type": "code",
   "execution_count": 16,
   "id": "653ee69d",
   "metadata": {},
   "outputs": [],
   "source": [
    "# def macro_f1(y_true, y_pred):  # macro F-score\n",
    "#     def recall_m(y_true, y_pred):\n",
    "#         TP = K.sum(K.round(y_true * y_pred))\n",
    "#         Positives = K.sum(K.round(y_true))\n",
    "\n",
    "#         recall = TP / (Positives+K.epsilon())\n",
    "#         return recall\n",
    "\n",
    "\n",
    "#     def precision_m(y_true, y_pred):\n",
    "#         TP = K.sum(K.round(K.clip(y_true * y_pred, 0, 1)))\n",
    "#         Pred_Positives = K.sum(K.round(K.clip(y_pred, 0, 1)))\n",
    "\n",
    "#         precision = TP / (Pred_Positives+K.epsilon())\n",
    "#         return precision\n",
    "    \n",
    "#     y_true = tf.one_hot(tf.cast(y_true, 'uint8'), depth=8)\n",
    "\n",
    "#     f_classes = []\n",
    "#     for i in range(8):   # Считаем f_score для каждого класса и усредняем\n",
    "#         y_t = y_true[:, :, i]\n",
    "#         y_p = y_pred[:, :, i]\n",
    "#         precision, recall = precision_m(y_t, y_p), recall_m(y_t, y_p)\n",
    "#         f = 2*((precision*recall)/(precision+recall+K.epsilon()))\n",
    "#         f_classes.append(f)\n",
    "        \n",
    "#     return tf.math.reduce_mean(f_classes)"
   ]
  },
  {
   "cell_type": "code",
   "execution_count": 17,
   "id": "634d406d",
   "metadata": {},
   "outputs": [],
   "source": [
    "from tensorflow.keras.callbacks import ModelCheckpoint, EarlyStopping"
   ]
  },
  {
   "cell_type": "code",
   "execution_count": 18,
   "id": "bac61174",
   "metadata": {},
   "outputs": [],
   "source": [
    "checkpoint = ModelCheckpoint('./checkpoints/elmo_bilstm_crf/best', monitor='val_macro_f1', mode='max',\n",
    "                                                save_best_only=True, save_weights_only=True)\n",
    "\n",
    "stop_early = EarlyStopping(monitor='val_macro_f1', mode='max', patience=8)"
   ]
  },
  {
   "cell_type": "code",
   "execution_count": 19,
   "id": "eaed2895",
   "metadata": {
    "scrolled": true
   },
   "outputs": [],
   "source": [
    "macro_f1 = MacroF1(n_tags = 8)\n",
    "\n",
    "ner_model = ModelWithCRFLoss(NERModel(num_tags=8), metrics_fn=macro_f1)\n",
    "ner_model.compile(optimizer=\"adam\")"
   ]
  },
  {
   "cell_type": "code",
   "execution_count": 20,
   "id": "a3862675",
   "metadata": {
    "scrolled": true,
    "tags": []
   },
   "outputs": [
    {
     "name": "stdout",
     "output_type": "stream",
     "text": [
      "Epoch 1/80\n",
      "200/200 [==============================] - 233s 1s/step - loss: 368.8285 - macro_f1: 0.3856 - val_loss: 80.0135 - val_macro_f1: 0.4181\n",
      "Epoch 2/80\n",
      "200/200 [==============================] - 213s 1s/step - loss: 50.1829 - macro_f1: 0.5755 - val_loss: 32.9698 - val_macro_f1: 0.5865\n",
      "Epoch 3/80\n",
      "200/200 [==============================] - 205s 1s/step - loss: 27.6272 - macro_f1: 0.7167 - val_loss: 24.2802 - val_macro_f1: 0.6934\n",
      "Epoch 4/80\n",
      "200/200 [==============================] - 201s 1s/step - loss: 23.0612 - macro_f1: 0.7830 - val_loss: 22.2844 - val_macro_f1: 0.7690\n",
      "Epoch 5/80\n",
      "200/200 [==============================] - 201s 1s/step - loss: 21.8792 - macro_f1: 0.8054 - val_loss: 21.6333 - val_macro_f1: 0.8117\n",
      "Epoch 6/80\n",
      "200/200 [==============================] - 201s 1s/step - loss: 22.1932 - macro_f1: 0.8432 - val_loss: 21.7288 - val_macro_f1: 0.8222\n",
      "Epoch 7/80\n",
      "200/200 [==============================] - 200s 1s/step - loss: 21.0669 - macro_f1: 0.8746 - val_loss: 21.0879 - val_macro_f1: 0.8469\n",
      "Epoch 8/80\n",
      "200/200 [==============================] - 198s 992ms/step - loss: 20.7586 - macro_f1: 0.8642 - val_loss: 20.8495 - val_macro_f1: 0.8412\n",
      "Epoch 9/80\n",
      "200/200 [==============================] - 199s 997ms/step - loss: 20.5472 - macro_f1: 0.8673 - val_loss: 20.7029 - val_macro_f1: 0.8610\n",
      "Epoch 10/80\n",
      "200/200 [==============================] - 195s 978ms/step - loss: 22.9577 - macro_f1: 0.8729 - val_loss: 22.7462 - val_macro_f1: 0.8473\n",
      "Epoch 11/80\n",
      "200/200 [==============================] - 195s 977ms/step - loss: 21.0359 - macro_f1: 0.8798 - val_loss: 20.6670 - val_macro_f1: 0.8831\n",
      "Epoch 12/80\n",
      "200/200 [==============================] - 194s 971ms/step - loss: 20.2557 - macro_f1: 0.8899 - val_loss: 20.5727 - val_macro_f1: 0.8721\n",
      "Epoch 13/80\n",
      "200/200 [==============================] - 196s 980ms/step - loss: 20.1257 - macro_f1: 0.9039 - val_loss: 20.5353 - val_macro_f1: 0.8849\n",
      "Epoch 14/80\n",
      "200/200 [==============================] - 213s 1s/step - loss: 20.0276 - macro_f1: 0.9344 - val_loss: 20.5352 - val_macro_f1: 0.8853\n",
      "Epoch 15/80\n",
      "200/200 [==============================] - 210s 1s/step - loss: 19.9733 - macro_f1: 0.9207 - val_loss: 20.6814 - val_macro_f1: 0.8658\n",
      "Epoch 16/80\n",
      "200/200 [==============================] - 213s 1s/step - loss: 24.7547 - macro_f1: 0.9177 - val_loss: 27.6643 - val_macro_f1: 0.8699\n",
      "Epoch 17/80\n",
      "200/200 [==============================] - 207s 1s/step - loss: 20.6986 - macro_f1: 0.9341 - val_loss: 20.4270 - val_macro_f1: 0.8734\n",
      "Epoch 18/80\n",
      "200/200 [==============================] - 210s 1s/step - loss: 19.7385 - macro_f1: 0.9610 - val_loss: 20.3102 - val_macro_f1: 0.8906\n",
      "Epoch 19/80\n",
      "200/200 [==============================] - 209s 1s/step - loss: 19.6676 - macro_f1: 0.9440 - val_loss: 20.4428 - val_macro_f1: 0.8967\n",
      "Epoch 20/80\n",
      "200/200 [==============================] - 207s 1s/step - loss: 19.6622 - macro_f1: 0.9659 - val_loss: 20.3463 - val_macro_f1: 0.8843\n",
      "Epoch 21/80\n",
      "200/200 [==============================] - 204s 1s/step - loss: 19.6106 - macro_f1: 0.9729 - val_loss: 20.3782 - val_macro_f1: 0.8906\n",
      "Epoch 22/80\n",
      "200/200 [==============================] - 202s 1s/step - loss: 19.5741 - macro_f1: 0.9624 - val_loss: 20.3809 - val_macro_f1: 0.8959\n",
      "Epoch 23/80\n",
      "200/200 [==============================] - 207s 1s/step - loss: 19.5727 - macro_f1: 0.9692 - val_loss: 20.3751 - val_macro_f1: 0.8849\n",
      "Epoch 24/80\n",
      "200/200 [==============================] - 207s 1s/step - loss: 19.5483 - macro_f1: 0.9594 - val_loss: 20.3738 - val_macro_f1: 0.8875\n",
      "Epoch 25/80\n",
      "200/200 [==============================] - 206s 1s/step - loss: 19.5428 - macro_f1: 0.9716 - val_loss: 20.3119 - val_macro_f1: 0.8920\n",
      "Epoch 26/80\n",
      "200/200 [==============================] - 203s 1s/step - loss: 92.2371 - macro_f1: 0.6662 - val_loss: 155.6924 - val_macro_f1: 0.6634\n",
      "Epoch 27/80\n",
      "200/200 [==============================] - 201s 1s/step - loss: 117.2676 - macro_f1: 0.8710 - val_loss: 96.5014 - val_macro_f1: 0.8313\n"
     ]
    }
   ],
   "source": [
    "model_history = ner_model.fit(train_ds, epochs=80,\n",
    "                validation_data=test_ds,\n",
    "                steps_per_epoch=TRAIN_STEPS,\n",
    "                validation_steps=TEST_STEPS,\n",
    "                callbacks = [checkpoint, stop_early])"
   ]
  },
  {
   "cell_type": "code",
   "execution_count": 21,
   "id": "2fbd14be",
   "metadata": {},
   "outputs": [
    {
     "data": {
      "text/plain": [
       "<tensorflow.python.checkpoint.checkpoint.CheckpointLoadStatus at 0x18f7ec86d00>"
      ]
     },
     "execution_count": 21,
     "metadata": {},
     "output_type": "execute_result"
    }
   ],
   "source": [
    "ner_model.load_weights('./checkpoints/elmo_bilstm_crf/best')\n",
    "# ner_model.save_weights('./models/elmo_bilstm_crf/elmo_bilstm_crf')"
   ]
  },
  {
   "cell_type": "code",
   "execution_count": 23,
   "id": "bb87b700",
   "metadata": {},
   "outputs": [
    {
     "data": {
      "image/png": "[encoded data removed]",
      "text/plain": [
       "<Figure size 800x1200 with 2 Axes>"
      ]
     },
     "metadata": {},
     "output_type": "display_data"
    }
   ],
   "source": [
    "loss = model_history.history['loss'][:-2]\n",
    "val_loss = model_history.history['val_loss'][:-2]\n",
    "\n",
    "f1 = model_history.history['macro_f1'][:-2]\n",
    "val_f1 = model_history.history['val_macro_f1'][:-2]\n",
    "\n",
    "plt.figure(figsize=(8,12))\n",
    "plt.subplot(211)\n",
    "plt.plot(model_history.epoch[:-2], loss, '-', label='Training loss')\n",
    "plt.plot(model_history.epoch[:-2], val_loss, '--', label='Validation loss')\n",
    "plt.title('Training and Validation Loss')\n",
    "plt.xlabel('Epoch')\n",
    "plt.ylabel('Loss Value')\n",
    "plt.grid()\n",
    "plt.legend()\n",
    "\n",
    "plt.subplot(212)\n",
    "plt.plot(model_history.epoch[:-2], f1, '-', label='Training F1-score')\n",
    "plt.plot(model_history.epoch[:-2], val_f1, '--', label='Validation F1-score')\n",
    "plt.title('Training and Validation F1-score')\n",
    "plt.xlabel('Epoch')\n",
    "plt.ylabel('F1-score')\n",
    "plt.grid()\n",
    "plt.legend()\n",
    "plt.show()"
   ]
  },
  {
   "cell_type": "code",
   "execution_count": 37,
   "id": "920f6291",
   "metadata": {},
   "outputs": [
    {
     "data": {
      "text/plain": [
       "<tensorflow.python.checkpoint.checkpoint.CheckpointLoadStatus at 0x1803ae0b970>"
      ]
     },
     "execution_count": 37,
     "metadata": {},
     "output_type": "execute_result"
    }
   ],
   "source": [
    "# ner_model.load_weights('./models/elmo_bilstm_crf')"
   ]
  },
  {
   "cell_type": "code",
   "execution_count": 24,
   "id": "cb53321c",
   "metadata": {},
   "outputs": [
    {
     "name": "stdout",
     "output_type": "stream",
     "text": [
      "32/32 [==============================] - 5s 117ms/step\n",
      "0.99667\n"
     ]
    }
   ],
   "source": [
    "def multiclass_accuracy(y_pred, y_true):\n",
    "    return np.mean(np.equal(y_true, y_pred))\n",
    "\n",
    "y_test_pred = ner_model.predict(load_file(DATA_DIR+'/'+FILE_LIST[-1]))\n",
    "\n",
    "y_test = y[-1000:]\n",
    "test_accuracy = multiclass_accuracy(y_test_pred, y_test)\n",
    "\n",
    "print(test_accuracy)"
   ]
  },
  {
   "cell_type": "code",
   "execution_count": 18,
   "id": "994d4fa0",
   "metadata": {},
   "outputs": [],
   "source": [
    "# from sklearn.metrics import classification_report"
   ]
  },
  {
   "cell_type": "code",
   "execution_count": 25,
   "id": "1e2c0095",
   "metadata": {},
   "outputs": [],
   "source": [
    "tags_inv = {\n",
    "    0: '[PAD]',\n",
    "    1: 'O',\n",
    "    2: 'B-PER',\n",
    "    3: 'I-PER',\n",
    "    4: 'B-ORG',\n",
    "    5: 'I-ORG',\n",
    "    6: 'B-LOC',\n",
    "    7: 'I-LOC'\n",
    "}\n",
    "\n",
    "tag_names = list(tags_inv.values())"
   ]
  },
  {
   "cell_type": "code",
   "execution_count": 26,
   "id": "82980274",
   "metadata": {
    "collapsed": true,
    "jupyter": {
     "outputs_hidden": true
    },
    "tags": []
   },
   "outputs": [
    {
     "name": "stdout",
     "output_type": "stream",
     "text": [
      "WARNING:tensorflow:Unable to create a python object for variable <tf.Variable 'bilm/Variable:0' shape=(1024, 4096) dtype=float32_ref> because it is a reference variable. It may not be visible to training APIs. If this is a problem, consider rebuilding the SavedModel after running tf.compat.v1.enable_resource_variables().\n",
      "WARNING:tensorflow:Unable to create a python object for variable <tf.Variable 'bilm/Variable_1:0' shape=(1024, 512) dtype=float32_ref> because it is a reference variable. It may not be visible to training APIs. If this is a problem, consider rebuilding the SavedModel after running tf.compat.v1.enable_resource_variables().\n",
      "WARNING:tensorflow:Unable to create a python object for variable <tf.Variable 'bilm/Variable_2:0' shape=(1024, 4096) dtype=float32_ref> because it is a reference variable. It may not be visible to training APIs. If this is a problem, consider rebuilding the SavedModel after running tf.compat.v1.enable_resource_variables().\n",
      "WARNING:tensorflow:Unable to create a python object for variable <tf.Variable 'bilm/Variable_3:0' shape=(1024, 512) dtype=float32_ref> because it is a reference variable. It may not be visible to training APIs. If this is a problem, consider rebuilding the SavedModel after running tf.compat.v1.enable_resource_variables().\n",
      "WARNING:tensorflow:Unable to create a python object for variable <tf.Variable 'bilm/Variable_4:0' shape=(1024, 4096) dtype=float32_ref> because it is a reference variable. It may not be visible to training APIs. If this is a problem, consider rebuilding the SavedModel after running tf.compat.v1.enable_resource_variables().\n",
      "WARNING:tensorflow:Unable to create a python object for variable <tf.Variable 'bilm/Variable:0' shape=(1024, 4096) dtype=float32_ref> because it is a reference variable. It may not be visible to training APIs. If this is a problem, consider rebuilding the SavedModel after running tf.compat.v1.enable_resource_variables().\n",
      "WARNING:tensorflow:Unable to create a python object for variable <tf.Variable 'bilm/Variable_1:0' shape=(1024, 512) dtype=float32_ref> because it is a reference variable. It may not be visible to training APIs. If this is a problem, consider rebuilding the SavedModel after running tf.compat.v1.enable_resource_variables().\n",
      "WARNING:tensorflow:Unable to create a python object for variable <tf.Variable 'bilm/Variable_2:0' shape=(1024, 4096) dtype=float32_ref> because it is a reference variable. It may not be visible to training APIs. If this is a problem, consider rebuilding the SavedModel after running tf.compat.v1.enable_resource_variables().\n",
      "WARNING:tensorflow:Unable to create a python object for variable <tf.Variable 'bilm/Variable_3:0' shape=(1024, 512) dtype=float32_ref> because it is a reference variable. It may not be visible to training APIs. If this is a problem, consider rebuilding the SavedModel after running tf.compat.v1.enable_resource_variables().\n",
      "WARNING:tensorflow:Unable to create a python object for variable <tf.Variable 'bilm/Variable_4:0' shape=(1024, 4096) dtype=float32_ref> because it is a reference variable. It may not be visible to training APIs. If this is a problem, consider rebuilding the SavedModel after running tf.compat.v1.enable_resource_variables().\n",
      "WARNING:tensorflow:Unable to create a python object for variable <tf.Variable 'bilm/Variable:0' shape=(1024, 4096) dtype=float32_ref> because it is a reference variable. It may not be visible to training APIs. If this is a problem, consider rebuilding the SavedModel after running tf.compat.v1.enable_resource_variables().\n",
      "WARNING:tensorflow:Unable to create a python object for variable <tf.Variable 'bilm/Variable_1:0' shape=(1024, 512) dtype=float32_ref> because it is a reference variable. It may not be visible to training APIs. If this is a problem, consider rebuilding the SavedModel after running tf.compat.v1.enable_resource_variables().\n",
      "WARNING:tensorflow:Unable to create a python object for variable <tf.Variable 'bilm/Variable_2:0' shape=(1024, 4096) dtype=float32_ref> because it is a reference variable. It may not be visible to training APIs. If this is a problem, consider rebuilding the SavedModel after running tf.compat.v1.enable_resource_variables().\n",
      "WARNING:tensorflow:Unable to create a python object for variable <tf.Variable 'bilm/Variable_3:0' shape=(1024, 512) dtype=float32_ref> because it is a reference variable. It may not be visible to training APIs. If this is a problem, consider rebuilding the SavedModel after running tf.compat.v1.enable_resource_variables().\n",
      "WARNING:tensorflow:Unable to create a python object for variable <tf.Variable 'bilm/Variable_4:0' shape=(1024, 4096) dtype=float32_ref> because it is a reference variable. It may not be visible to training APIs. If this is a problem, consider rebuilding the SavedModel after running tf.compat.v1.enable_resource_variables().\n",
      "WARNING:tensorflow:Unable to create a python object for variable <tf.Variable 'bilm/Variable:0' shape=(1024, 4096) dtype=float32_ref> because it is a reference variable. It may not be visible to training APIs. If this is a problem, consider rebuilding the SavedModel after running tf.compat.v1.enable_resource_variables().\n",
      "WARNING:tensorflow:Unable to create a python object for variable <tf.Variable 'bilm/Variable_1:0' shape=(1024, 512) dtype=float32_ref> because it is a reference variable. It may not be visible to training APIs. If this is a problem, consider rebuilding the SavedModel after running tf.compat.v1.enable_resource_variables().\n",
      "WARNING:tensorflow:Unable to create a python object for variable <tf.Variable 'bilm/Variable_2:0' shape=(1024, 4096) dtype=float32_ref> because it is a reference variable. It may not be visible to training APIs. If this is a problem, consider rebuilding the SavedModel after running tf.compat.v1.enable_resource_variables().\n",
      "WARNING:tensorflow:Unable to create a python object for variable <tf.Variable 'bilm/Variable_3:0' shape=(1024, 512) dtype=float32_ref> because it is a reference variable. It may not be visible to training APIs. If this is a problem, consider rebuilding the SavedModel after running tf.compat.v1.enable_resource_variables().\n",
      "WARNING:tensorflow:Unable to create a python object for variable <tf.Variable 'bilm/Variable_4:0' shape=(1024, 4096) dtype=float32_ref> because it is a reference variable. It may not be visible to training APIs. If this is a problem, consider rebuilding the SavedModel after running tf.compat.v1.enable_resource_variables().\n"
     ]
    }
   ],
   "source": [
    "elmo = hub.load(r'C:\\Users\\Egor\\Desktop\\python\\VKR\\elmo_ru-news_wmt11-16_1.5M_steps')"
   ]
  },
  {
   "cell_type": "code",
   "execution_count": 27,
   "id": "7e9e3c91",
   "metadata": {},
   "outputs": [],
   "source": [
    "def check_on_sentence(sentences):\n",
    "    ls = [len(s) for s in sentences]\n",
    "    emb = tf.keras.utils.pad_sequences(sentences, maxlen=100, padding='post', value='', dtype=object)\n",
    "    emb = elmo.signatures['tokens'](tokens=tf.cast(emb, tf.string), sequence_len = tf.cast(ls, tf.int32))['elmo']\n",
    "    tags = ner_model.predict(emb)\n",
    "    out = []\n",
    "    for i in range(len(ls)):\n",
    "        out.append([sentences[i], tags[i][:ls[i]]])       \n",
    "    tf.keras.backend.clear_session()\n",
    "    return out"
   ]
  },
  {
   "cell_type": "code",
   "execution_count": 28,
   "id": "13898499",
   "metadata": {},
   "outputs": [],
   "source": [
    "from nltk.tokenize import word_tokenize, sent_tokenize, WordPunctTokenizer\n",
    "from tabulate import tabulate"
   ]
  },
  {
   "cell_type": "code",
   "execution_count": 58,
   "id": "e6245153",
   "metadata": {},
   "outputs": [],
   "source": [
    "text = '''\\\n",
    "Пожалуйста, предоставьте Михаилу Ивановичу Резниченко офис по адресу г. Москва, улица Орджоникидзе, дом 11.\n",
    "Генеральный директор оператора \"Северного потока - 2\" - компании Nord Stream 2 AG - Маттиас Варниг в конце марта покинет пост главы компании, говорится в сообщении оператора.\n",
    "'''"
   ]
  },
  {
   "cell_type": "code",
   "execution_count": 32,
   "id": "c48a472f",
   "metadata": {},
   "outputs": [],
   "source": [
    "text = '''\\\n",
    "\"Маттиас Варниг завершит свой срок пребывания на посту генерального директора Nord Stream 2 AG и уйдет в отставку в конце марта 2023 года\", - говорится в сообщении. Дальнейшая эксплуатация Nord Stream 2 AG будет осуществляться управляющим комитетом под руководством администратора Transliq AG.\n",
    "\"Nord Stream 2 признает и по-настоящему ценит выдающееся руководство и неоценимый вклад Маттиаса Варнига на протяжении долгого и сложного пути создания крупной трансграничной инфраструктуры энергоснабжения и желает ему успехов во всех его будущих начинаниях\", - говорится в сообщении.\n",
    "В конце декабря 2022 года сообщалось, что процедура банкротства Nord Stream 2 AG продлена еще на шесть месяцев, до июля 2023 года. Как следует из заявления, суд в швейцарском Цуге по просьбе компании выдал Nord Stream 2 AG постоянный мораторий на выплату кредитов вместо действовавшего до этого временного моратория.\n",
    "Газета Stuttgarter Zeitung со ссылкой на гендиректора компании Маттиаса Варнига в марте 2022 года сообщала, что Nord Stream 2 AG намерена подать заявление о банкротстве. В самой компании тогда не подтверждали сообщения о начале процедуры банкротства и заявляли, что только проинформировали власти Швейцарии о вынужденном расторжении контрактов с персоналом.\n",
    "'''"
   ]
  },
  {
   "cell_type": "code",
   "execution_count": 29,
   "id": "4565b4ab",
   "metadata": {},
   "outputs": [],
   "source": [
    "def print_tags(data):\n",
    "    tokens, tags = data\n",
    "    t_inv = [tags_inv[t] for t in tags]\n",
    "    print(tabulate(zip(tokens, t_inv)))"
   ]
  },
  {
   "cell_type": "code",
   "execution_count": 30,
   "id": "faec54af",
   "metadata": {},
   "outputs": [],
   "source": [
    "def tokenize_text(text):\n",
    "    s_t = sent_tokenize(text)\n",
    "    return [WordPunctTokenizer().tokenize(s) for s in s_t]\n",
    "\n",
    "def text_to_predict(text):\n",
    "    tok = tokenize_text(text)\n",
    "    for sent in check_on_sentence(tok):\n",
    "        print_tags(sent)"
   ]
  },
  {
   "cell_type": "code",
   "execution_count": 59,
   "id": "ccf38abb",
   "metadata": {},
   "outputs": [
    {
     "name": "stdout",
     "output_type": "stream",
     "text": [
      "1/1 [==============================] - 0s 374ms/step\n",
      "------------  -----\n",
      "Пожалуйста    O\n",
      ",             O\n",
      "предоставьте  O\n",
      "Михаилу       B-PER\n",
      "Ивановичу     I-PER\n",
      "Резниченко    I-PER\n",
      "офис          O\n",
      "по            O\n",
      "адресу        O\n",
      "г             O\n",
      ".             O\n",
      "Москва        B-LOC\n",
      ",             O\n",
      "улица         O\n",
      "Орджоникидзе  B-LOC\n",
      ",             O\n",
      "дом           O\n",
      "11            O\n",
      ".             O\n",
      "------------  -----\n",
      "-----------  -----\n",
      "Генеральный  O\n",
      "директор     O\n",
      "оператора    O\n",
      "\"            O\n",
      "Северного    O\n",
      "потока       O\n",
      "-            O\n",
      "2            O\n",
      "\"            O\n",
      "-            O\n",
      "компании     O\n",
      "Nord         B-ORG\n",
      "Stream       I-ORG\n",
      "2            I-ORG\n",
      "AG           I-ORG\n",
      "-            O\n",
      "Маттиас      B-PER\n",
      "Варниг       I-PER\n",
      "в            O\n",
      "конце        O\n",
      "марта        O\n",
      "покинет      O\n",
      "пост         O\n",
      "главы        O\n",
      "компании     O\n",
      ",            O\n",
      "говорится    O\n",
      "в            O\n",
      "сообщении    O\n",
      "оператора    O\n",
      ".            O\n",
      "-----------  -----\n"
     ]
    }
   ],
   "source": [
    "text_to_predict(text)"
   ]
  },
  {
   "cell_type": "code",
   "execution_count": 31,
   "id": "dc3c47b2",
   "metadata": {},
   "outputs": [],
   "source": [
    "import seaborn as sns\n",
    "from sklearn.metrics import classification_report, confusion_matrix\n",
    "import matplotlib.pyplot as plt"
   ]
  },
  {
   "cell_type": "code",
   "execution_count": 32,
   "id": "cadb4fff",
   "metadata": {},
   "outputs": [
    {
     "name": "stdout",
     "output_type": "stream",
     "text": [
      "50/50 [==============================] - 56s 284ms/step\n"
     ]
    }
   ],
   "source": [
    "# y_pred = ner_model.predict(load_file(DATA_DIR+'/'+FILE_LIST[-1]))\n",
    "y_pred = ner_model.predict(test_ds, steps=TEST_STEPS, verbose=1, workers=4)\n",
    "# y_pred = np.argmax(y_pred, axis=-1)"
   ]
  },
  {
   "cell_type": "code",
   "execution_count": 33,
   "id": "b50c9026",
   "metadata": {},
   "outputs": [],
   "source": [
    "y_test = np.array(y_shuffled[-TEST_STEPS*BATCH_SIZE:])"
   ]
  },
  {
   "cell_type": "code",
   "execution_count": 38,
   "id": "74d415b5",
   "metadata": {},
   "outputs": [
    {
     "name": "stdout",
     "output_type": "stream",
     "text": [
      "              precision    recall  f1-score   support\n",
      "\n",
      "           O     0.9949    0.9945    0.9947    325441\n",
      "       B-PER     0.9627    0.9503    0.9565      7524\n",
      "       I-PER     0.9760    0.9617    0.9688      5826\n",
      "       B-ORG     0.8506    0.8891    0.8694      6059\n",
      "       I-ORG     0.8183    0.8721    0.8443      4808\n",
      "       B-LOC     0.9451    0.9404    0.9427     11236\n",
      "       I-LOC     0.8603    0.7807    0.8186      2627\n",
      "\n",
      "   micro avg     0.9865    0.9865    0.9865    363521\n",
      "   macro avg     0.9154    0.9127    0.9136    363521\n",
      "weighted avg     0.9866    0.9865    0.9865    363521\n",
      "\n"
     ]
    }
   ],
   "source": [
    "print(classification_report(y_test.flatten(), y_pred.flatten(), labels=[1,2,3,4,5,6,7], digits=4,\n",
    "                            target_names = tag_names[1:]))"
   ]
  },
  {
   "cell_type": "code",
   "execution_count": 36,
   "id": "7ac2d021",
   "metadata": {},
   "outputs": [
    {
     "data": {
      "text/plain": [
       "<Axes: >"
      ]
     },
     "execution_count": 36,
     "metadata": {},
     "output_type": "execute_result"
    },
    {
     "data": {
      "image/png": "[encoded data removed]",
      "text/plain": [
       "<Figure size 800x800 with 1 Axes>"
      ]
     },
     "metadata": {},
     "output_type": "display_data"
    }
   ],
   "source": [
    "plt.figure(figsize=(8,8))\n",
    "sns.heatmap(confusion_matrix(y_test.flatten(), y_pred.flatten(), labels=[1,2,3,4,5,6,7]),\n",
    "            annot=True, fmt='d', xticklabels=tag_names[1:], yticklabels=tag_names[1:], vmax=2000, cbar=False)"
   ]
  },
  {
   "cell_type": "code",
   "execution_count": null,
   "id": "2ed4aa59",
   "metadata": {},
   "outputs": [],
   "source": []
  }
 ],
 "metadata": {
  "kernelspec": {
   "display_name": "Python 3.9.13 ('base')",
   "language": "python",
   "name": "python3"
  },
  "language_info": {
   "codemirror_mode": {
    "name": "ipython",
    "version": 3
   },
   "file_extension": ".py",
   "mimetype": "text/x-python",
   "name": "python",
   "nbconvert_exporter": "python",
   "pygments_lexer": "ipython3",
   "version": "3.9.13"
  },
  "vscode": {
   "interpreter": {
    "hash": "e831ba34aa182d4c799c47186f1165aca5eef54d02befe4eb5f01abd368d9bcf"
   }
  }
 },
 "nbformat": 4,
 "nbformat_minor": 5
}
