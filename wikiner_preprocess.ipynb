{
 "cells": [
  {
   "cell_type": "code",
   "execution_count": 12,
   "id": "0a643f9e",
   "metadata": {},
   "outputs": [],
   "source": [
    "import numpy as np\n",
    "from tqdm.notebook import tqdm\n",
    "import seaborn as sns\n",
    "import matplotlib.pyplot as plt\n",
    "import pandas as pd\n",
    "import pickle"
   ]
  },
  {
   "cell_type": "code",
   "execution_count": 2,
   "id": "019f58df",
   "metadata": {},
   "outputs": [],
   "source": [
    "with open(r'D:\\VKR_data\\aij-wikiner-ru-wp3\\aij-wikiner-ru-wp3', 'r', encoding='utf-8') as f:\n",
    "    text_all = f.readlines()"
   ]
  },
  {
   "cell_type": "code",
   "execution_count": 3,
   "id": "e4366ea0",
   "metadata": {},
   "outputs": [],
   "source": [
    "text = []\n",
    "for line in text_all:\n",
    "    if line=='\\n':\n",
    "        continue\n",
    "    else:\n",
    "        text.append(line.strip('\\n '))"
   ]
  },
  {
   "cell_type": "code",
   "execution_count": 4,
   "id": "6ddf8421",
   "metadata": {},
   "outputs": [
    {
     "data": {
      "text/plain": [
       "203287"
      ]
     },
     "execution_count": 4,
     "metadata": {},
     "output_type": "execute_result"
    }
   ],
   "source": [
    "len(text)"
   ]
  },
  {
   "cell_type": "code",
   "execution_count": 5,
   "id": "bc9145bb",
   "metadata": {},
   "outputs": [
    {
     "data": {
      "application/vnd.jupyter.widget-view+json": {
       "model_id": "0084ad69f62b4d2399290a62570deb83",
       "version_major": 2,
       "version_minor": 0
      },
      "text/plain": [
       "0it [00:00, ?it/s]"
      ]
     },
     "metadata": {},
     "output_type": "display_data"
    }
   ],
   "source": [
    "data = []\n",
    "for i, sen in tqdm(enumerate(text)):\n",
    "    tokens = sen.split(' ')\n",
    "    for t in tokens:\n",
    "        t_split = t.split('|')\n",
    "        data.append([i, t_split[0], t_split[2]])\n",
    "df = pd.DataFrame(data, columns=['sentence', 'token', 'tag'])"
   ]
  },
  {
   "cell_type": "code",
   "execution_count": 6,
   "id": "e6c22486",
   "metadata": {},
   "outputs": [
    {
     "data": {
      "text/plain": [
       "'Далее|ADV|O граница|S|O меняет|V|O направление|S|O ,|PUNCT|O проходя|V|O по|PR|O улице|S|I-LOC Достоевского|S|I-LOC .|SENT|O'"
      ]
     },
     "execution_count": 6,
     "metadata": {},
     "output_type": "execute_result"
    }
   ],
   "source": [
    "text[10000]"
   ]
  },
  {
   "cell_type": "code",
   "execution_count": 7,
   "id": "a38faaa6",
   "metadata": {},
   "outputs": [
    {
     "data": {
      "text/plain": [
       "array(['O', 'I-LOC', 'B-LOC', 'I-PER', 'I-MISC', 'I-ORG', 'B-PER',\n",
       "       'B-MISC', 'B-ORG'], dtype=object)"
      ]
     },
     "execution_count": 7,
     "metadata": {},
     "output_type": "execute_result"
    }
   ],
   "source": [
    "df['tag'].unique()"
   ]
  },
  {
   "cell_type": "code",
   "execution_count": 8,
   "id": "8b0c79be",
   "metadata": {},
   "outputs": [],
   "source": [
    "n_tokens = lambda t: len(t.split(' '))"
   ]
  },
  {
   "cell_type": "code",
   "execution_count": 9,
   "id": "538487d1",
   "metadata": {},
   "outputs": [],
   "source": [
    "sent_len = list(map(n_tokens, text))"
   ]
  },
  {
   "cell_type": "code",
   "execution_count": 13,
   "id": "4ea169c5",
   "metadata": {},
   "outputs": [
    {
     "data": {
      "text/plain": [
       "array([  1,   1,   1, ..., 191, 193, 219])"
      ]
     },
     "execution_count": 13,
     "metadata": {},
     "output_type": "execute_result"
    }
   ],
   "source": [
    "np.sort(sent_len)[:]"
   ]
  },
  {
   "cell_type": "code",
   "execution_count": 14,
   "id": "7ac3effa",
   "metadata": {},
   "outputs": [
    {
     "data": {
      "image/png": "[encoded data removed]",
      "text/plain": [
       "<Figure size 1000x600 with 1 Axes>"
      ]
     },
     "metadata": {},
     "output_type": "display_data"
    }
   ],
   "source": [
    "plt.figure(figsize=(10,6))\n",
    "sns.histplot(sent_len, bins=219)\n",
    "plt.grid()"
   ]
  },
  {
   "cell_type": "code",
   "execution_count": 15,
   "id": "f7610986",
   "metadata": {},
   "outputs": [
    {
     "name": "stdout",
     "output_type": "stream",
     "text": [
      "total\t3499392\n",
      "O\t2956710\n",
      "B-PER\t161\n",
      "I-PER\t136345\n",
      "B-ORG\t51\n",
      "I-ORG\t63666\n",
      "B-LOC\t1457\n",
      "I-LOC\t191820\n",
      "B-MISC\t348\n",
      "I-MISC\t148834\n"
     ]
    }
   ],
   "source": [
    "tags = ['O', 'B-PER', 'I-PER', 'B-ORG', 'I-ORG',\n",
    "        'B-LOC', 'I-LOC', 'B-MISC', 'I-MISC']\n",
    "print(f'total\\t{len(df)}')\n",
    "for tag_type in tags:\n",
    "    print(f'{tag_type}\\t{len(df[df.tag == tag_type])}')"
   ]
  },
  {
   "cell_type": "code",
   "execution_count": 16,
   "id": "b6db39fa",
   "metadata": {},
   "outputs": [],
   "source": [
    "change_b = {\n",
    "    'I-PER': 'B-PER',\n",
    "    'I-ORG': 'B-ORG',\n",
    "    'I-LOC': 'B-LOC',\n",
    "    'I-MISC': 'B-MISC'\n",
    "}"
   ]
  },
  {
   "cell_type": "code",
   "execution_count": 17,
   "id": "f14082f7",
   "metadata": {},
   "outputs": [
    {
     "data": {
      "text/html": [
       "<div>\n",
       "<style scoped>\n",
       "    .dataframe tbody tr th:only-of-type {\n",
       "        vertical-align: middle;\n",
       "    }\n",
       "\n",
       "    .dataframe tbody tr th {\n",
       "        vertical-align: top;\n",
       "    }\n",
       "\n",
       "    .dataframe thead th {\n",
       "        text-align: right;\n",
       "    }\n",
       "</style>\n",
       "<table border=\"1\" class=\"dataframe\">\n",
       "  <thead>\n",
       "    <tr style=\"text-align: right;\">\n",
       "      <th></th>\n",
       "      <th>sentence</th>\n",
       "      <th>token</th>\n",
       "      <th>tag</th>\n",
       "    </tr>\n",
       "  </thead>\n",
       "  <tbody>\n",
       "    <tr>\n",
       "      <th>9528</th>\n",
       "      <td>500</td>\n",
       "      <td>8</td>\n",
       "      <td>O</td>\n",
       "    </tr>\n",
       "    <tr>\n",
       "      <th>9529</th>\n",
       "      <td>500</td>\n",
       "      <td>апреля</td>\n",
       "      <td>O</td>\n",
       "    </tr>\n",
       "    <tr>\n",
       "      <th>9530</th>\n",
       "      <td>500</td>\n",
       "      <td>1986</td>\n",
       "      <td>O</td>\n",
       "    </tr>\n",
       "    <tr>\n",
       "      <th>9531</th>\n",
       "      <td>500</td>\n",
       "      <td>года</td>\n",
       "      <td>O</td>\n",
       "    </tr>\n",
       "    <tr>\n",
       "      <th>9532</th>\n",
       "      <td>500</td>\n",
       "      <td>состоялся</td>\n",
       "      <td>O</td>\n",
       "    </tr>\n",
       "    <tr>\n",
       "      <th>9533</th>\n",
       "      <td>500</td>\n",
       "      <td>визит</td>\n",
       "      <td>O</td>\n",
       "    </tr>\n",
       "    <tr>\n",
       "      <th>9534</th>\n",
       "      <td>500</td>\n",
       "      <td>М.</td>\n",
       "      <td>I-PER</td>\n",
       "    </tr>\n",
       "    <tr>\n",
       "      <th>9535</th>\n",
       "      <td>500</td>\n",
       "      <td>С.</td>\n",
       "      <td>I-PER</td>\n",
       "    </tr>\n",
       "    <tr>\n",
       "      <th>9536</th>\n",
       "      <td>500</td>\n",
       "      <td>Горбачёва</td>\n",
       "      <td>I-PER</td>\n",
       "    </tr>\n",
       "    <tr>\n",
       "      <th>9537</th>\n",
       "      <td>500</td>\n",
       "      <td>в</td>\n",
       "      <td>O</td>\n",
       "    </tr>\n",
       "    <tr>\n",
       "      <th>9538</th>\n",
       "      <td>500</td>\n",
       "      <td>Тольятти</td>\n",
       "      <td>I-LOC</td>\n",
       "    </tr>\n",
       "    <tr>\n",
       "      <th>9539</th>\n",
       "      <td>500</td>\n",
       "      <td>,</td>\n",
       "      <td>O</td>\n",
       "    </tr>\n",
       "    <tr>\n",
       "      <th>9540</th>\n",
       "      <td>500</td>\n",
       "      <td>где</td>\n",
       "      <td>O</td>\n",
       "    </tr>\n",
       "    <tr>\n",
       "      <th>9541</th>\n",
       "      <td>500</td>\n",
       "      <td>он</td>\n",
       "      <td>O</td>\n",
       "    </tr>\n",
       "    <tr>\n",
       "      <th>9542</th>\n",
       "      <td>500</td>\n",
       "      <td>посетил</td>\n",
       "      <td>O</td>\n",
       "    </tr>\n",
       "    <tr>\n",
       "      <th>9543</th>\n",
       "      <td>500</td>\n",
       "      <td>Волжский</td>\n",
       "      <td>I-ORG</td>\n",
       "    </tr>\n",
       "    <tr>\n",
       "      <th>9544</th>\n",
       "      <td>500</td>\n",
       "      <td>Автозавод</td>\n",
       "      <td>I-ORG</td>\n",
       "    </tr>\n",
       "    <tr>\n",
       "      <th>9545</th>\n",
       "      <td>500</td>\n",
       "      <td>.</td>\n",
       "      <td>O</td>\n",
       "    </tr>\n",
       "  </tbody>\n",
       "</table>\n",
       "</div>"
      ],
      "text/plain": [
       "      sentence      token    tag\n",
       "9528       500          8      O\n",
       "9529       500     апреля      O\n",
       "9530       500       1986      O\n",
       "9531       500       года      O\n",
       "9532       500  состоялся      O\n",
       "9533       500      визит      O\n",
       "9534       500         М.  I-PER\n",
       "9535       500         С.  I-PER\n",
       "9536       500  Горбачёва  I-PER\n",
       "9537       500          в      O\n",
       "9538       500   Тольятти  I-LOC\n",
       "9539       500          ,      O\n",
       "9540       500        где      O\n",
       "9541       500         он      O\n",
       "9542       500    посетил      O\n",
       "9543       500   Волжский  I-ORG\n",
       "9544       500  Автозавод  I-ORG\n",
       "9545       500          .      O"
      ]
     },
     "execution_count": 17,
     "metadata": {},
     "output_type": "execute_result"
    }
   ],
   "source": [
    "df[df['sentence']==500]"
   ]
  },
  {
   "cell_type": "code",
   "execution_count": 18,
   "id": "f1fb694f",
   "metadata": {},
   "outputs": [
    {
     "data": {
      "application/vnd.jupyter.widget-view+json": {
       "model_id": "47ea9963da6746ab886ef0c5974b1eca",
       "version_major": 2,
       "version_minor": 0
      },
      "text/plain": [
       "  0%|          | 0/3499392 [00:00<?, ?it/s]"
      ]
     },
     "metadata": {},
     "output_type": "display_data"
    }
   ],
   "source": [
    "i_tags = list(change_b.keys())\n",
    "tag_prev = 'O'\n",
    "for i in tqdm(range(len(df))):\n",
    "    tag = df.iloc[i]['tag']\n",
    "    if tag in i_tags and tag_prev not in [tag, change_b[tag]]:\n",
    "        df.at[i, 'tag'] = change_b[tag]\n",
    "    tag_prev = tag"
   ]
  },
  {
   "cell_type": "code",
   "execution_count": 19,
   "id": "79e4245a",
   "metadata": {},
   "outputs": [
    {
     "data": {
      "text/html": [
       "<div>\n",
       "<style scoped>\n",
       "    .dataframe tbody tr th:only-of-type {\n",
       "        vertical-align: middle;\n",
       "    }\n",
       "\n",
       "    .dataframe tbody tr th {\n",
       "        vertical-align: top;\n",
       "    }\n",
       "\n",
       "    .dataframe thead th {\n",
       "        text-align: right;\n",
       "    }\n",
       "</style>\n",
       "<table border=\"1\" class=\"dataframe\">\n",
       "  <thead>\n",
       "    <tr style=\"text-align: right;\">\n",
       "      <th></th>\n",
       "      <th>sentence</th>\n",
       "      <th>token</th>\n",
       "      <th>tag</th>\n",
       "    </tr>\n",
       "  </thead>\n",
       "  <tbody>\n",
       "    <tr>\n",
       "      <th>9528</th>\n",
       "      <td>500</td>\n",
       "      <td>8</td>\n",
       "      <td>O</td>\n",
       "    </tr>\n",
       "    <tr>\n",
       "      <th>9529</th>\n",
       "      <td>500</td>\n",
       "      <td>апреля</td>\n",
       "      <td>O</td>\n",
       "    </tr>\n",
       "    <tr>\n",
       "      <th>9530</th>\n",
       "      <td>500</td>\n",
       "      <td>1986</td>\n",
       "      <td>O</td>\n",
       "    </tr>\n",
       "    <tr>\n",
       "      <th>9531</th>\n",
       "      <td>500</td>\n",
       "      <td>года</td>\n",
       "      <td>O</td>\n",
       "    </tr>\n",
       "    <tr>\n",
       "      <th>9532</th>\n",
       "      <td>500</td>\n",
       "      <td>состоялся</td>\n",
       "      <td>O</td>\n",
       "    </tr>\n",
       "    <tr>\n",
       "      <th>9533</th>\n",
       "      <td>500</td>\n",
       "      <td>визит</td>\n",
       "      <td>O</td>\n",
       "    </tr>\n",
       "    <tr>\n",
       "      <th>9534</th>\n",
       "      <td>500</td>\n",
       "      <td>М.</td>\n",
       "      <td>B-PER</td>\n",
       "    </tr>\n",
       "    <tr>\n",
       "      <th>9535</th>\n",
       "      <td>500</td>\n",
       "      <td>С.</td>\n",
       "      <td>I-PER</td>\n",
       "    </tr>\n",
       "    <tr>\n",
       "      <th>9536</th>\n",
       "      <td>500</td>\n",
       "      <td>Горбачёва</td>\n",
       "      <td>I-PER</td>\n",
       "    </tr>\n",
       "    <tr>\n",
       "      <th>9537</th>\n",
       "      <td>500</td>\n",
       "      <td>в</td>\n",
       "      <td>O</td>\n",
       "    </tr>\n",
       "    <tr>\n",
       "      <th>9538</th>\n",
       "      <td>500</td>\n",
       "      <td>Тольятти</td>\n",
       "      <td>B-LOC</td>\n",
       "    </tr>\n",
       "    <tr>\n",
       "      <th>9539</th>\n",
       "      <td>500</td>\n",
       "      <td>,</td>\n",
       "      <td>O</td>\n",
       "    </tr>\n",
       "    <tr>\n",
       "      <th>9540</th>\n",
       "      <td>500</td>\n",
       "      <td>где</td>\n",
       "      <td>O</td>\n",
       "    </tr>\n",
       "    <tr>\n",
       "      <th>9541</th>\n",
       "      <td>500</td>\n",
       "      <td>он</td>\n",
       "      <td>O</td>\n",
       "    </tr>\n",
       "    <tr>\n",
       "      <th>9542</th>\n",
       "      <td>500</td>\n",
       "      <td>посетил</td>\n",
       "      <td>O</td>\n",
       "    </tr>\n",
       "    <tr>\n",
       "      <th>9543</th>\n",
       "      <td>500</td>\n",
       "      <td>Волжский</td>\n",
       "      <td>B-ORG</td>\n",
       "    </tr>\n",
       "    <tr>\n",
       "      <th>9544</th>\n",
       "      <td>500</td>\n",
       "      <td>Автозавод</td>\n",
       "      <td>I-ORG</td>\n",
       "    </tr>\n",
       "    <tr>\n",
       "      <th>9545</th>\n",
       "      <td>500</td>\n",
       "      <td>.</td>\n",
       "      <td>O</td>\n",
       "    </tr>\n",
       "  </tbody>\n",
       "</table>\n",
       "</div>"
      ],
      "text/plain": [
       "      sentence      token    tag\n",
       "9528       500          8      O\n",
       "9529       500     апреля      O\n",
       "9530       500       1986      O\n",
       "9531       500       года      O\n",
       "9532       500  состоялся      O\n",
       "9533       500      визит      O\n",
       "9534       500         М.  B-PER\n",
       "9535       500         С.  I-PER\n",
       "9536       500  Горбачёва  I-PER\n",
       "9537       500          в      O\n",
       "9538       500   Тольятти  B-LOC\n",
       "9539       500          ,      O\n",
       "9540       500        где      O\n",
       "9541       500         он      O\n",
       "9542       500    посетил      O\n",
       "9543       500   Волжский  B-ORG\n",
       "9544       500  Автозавод  I-ORG\n",
       "9545       500          .      O"
      ]
     },
     "execution_count": 19,
     "metadata": {},
     "output_type": "execute_result"
    }
   ],
   "source": [
    "df[df['sentence'] == 500]"
   ]
  },
  {
   "cell_type": "code",
   "execution_count": 20,
   "id": "e8020a8f",
   "metadata": {},
   "outputs": [
    {
     "data": {
      "text/plain": [
       "203286"
      ]
     },
     "execution_count": 20,
     "metadata": {},
     "output_type": "execute_result"
    }
   ],
   "source": [
    "df.sentence.max()"
   ]
  },
  {
   "cell_type": "code",
   "execution_count": 21,
   "id": "44684417",
   "metadata": {},
   "outputs": [
    {
     "name": "stdout",
     "output_type": "stream",
     "text": [
      "total\t3499392\n",
      "O\t2956710\n",
      "B-PER\t71626\n",
      "I-PER\t64880\n",
      "B-ORG\t37119\n",
      "I-ORG\t26598\n",
      "B-LOC\t144379\n",
      "I-LOC\t48898\n",
      "B-MISC\t79675\n",
      "I-MISC\t69507\n"
     ]
    }
   ],
   "source": [
    "print(f'total\\t{len(df)}')\n",
    "for tag_type in tags:\n",
    "    print(f'{tag_type}\\t{len(df[df.tag == tag_type])}')"
   ]
  },
  {
   "cell_type": "code",
   "execution_count": 22,
   "id": "b7a6f579",
   "metadata": {},
   "outputs": [
    {
     "data": {
      "text/plain": [
       "0.00013281715013749036"
      ]
     },
     "execution_count": 22,
     "metadata": {},
     "output_type": "execute_result"
    }
   ],
   "source": [
    "len(np.where(np.array(sent_len) > 100)[0]) / len(sent_len)"
   ]
  },
  {
   "cell_type": "code",
   "execution_count": 23,
   "id": "f2b74638",
   "metadata": {},
   "outputs": [],
   "source": [
    "df.to_csv('data/wikiner/wikiner_words_all.csv', index=False)"
   ]
  },
  {
   "cell_type": "code",
   "execution_count": 24,
   "id": "f5840d10",
   "metadata": {},
   "outputs": [
    {
     "data": {
      "text/plain": [
       "0.00038369398928608323"
      ]
     },
     "execution_count": 24,
     "metadata": {},
     "output_type": "execute_result"
    }
   ],
   "source": [
    "len(np.where((np.array(sent_len) > 100) | (np.array(sent_len) == 1))[0]) / len(sent_len)"
   ]
  },
  {
   "cell_type": "code",
   "execution_count": 25,
   "id": "119cf200",
   "metadata": {},
   "outputs": [
    {
     "data": {
      "application/vnd.jupyter.widget-view+json": {
       "model_id": "9c71e9ae2f12491c80adacbb2f0f3919",
       "version_major": 2,
       "version_minor": 0
      },
      "text/plain": [
       "  0%|          | 0/203287 [00:00<?, ?it/s]"
      ]
     },
     "metadata": {},
     "output_type": "display_data"
    }
   ],
   "source": [
    "data_100 = []\n",
    "i = 0\n",
    "for sen in tqdm(text):\n",
    "    tokens = sen.split(' ')\n",
    "    if len(tokens) > 100 or len(tokens) == 1:\n",
    "            continue\n",
    "    for t in tokens:\n",
    "        t_split = t.split('|')\n",
    "        data_100.append([i, t_split[0], t_split[2]])\n",
    "    i += 1\n",
    "df_100 = pd.DataFrame(data_100, columns=['sentence', 'token', 'tag'])"
   ]
  },
  {
   "cell_type": "code",
   "execution_count": 26,
   "id": "f4d97707",
   "metadata": {},
   "outputs": [
    {
     "data": {
      "application/vnd.jupyter.widget-view+json": {
       "model_id": "e054a0fba140425484b903d983dcffed",
       "version_major": 2,
       "version_minor": 0
      },
      "text/plain": [
       "  0%|          | 0/3495748 [00:00<?, ?it/s]"
      ]
     },
     "metadata": {},
     "output_type": "display_data"
    }
   ],
   "source": [
    "i_tags = list(change_b.keys())\n",
    "tag_prev = 'O'\n",
    "for i in tqdm(range(len(df_100))):\n",
    "    tag = df_100.iloc[i]['tag']\n",
    "    if tag in i_tags and tag_prev not in [tag, change_b[tag]]:\n",
    "        df_100.at[i, 'tag'] = change_b[tag]\n",
    "    tag_prev = tag"
   ]
  },
  {
   "cell_type": "code",
   "execution_count": 27,
   "id": "bc8f7fe7",
   "metadata": {},
   "outputs": [
    {
     "name": "stdout",
     "output_type": "stream",
     "text": [
      "total\t3495748\n",
      "O\t2953893\n",
      "B-PER\t71526\n",
      "I-PER\t64755\n",
      "B-ORG\t37105\n",
      "I-ORG\t26592\n",
      "B-LOC\t143902\n",
      "I-LOC\t48822\n",
      "B-MISC\t79653\n",
      "I-MISC\t69500\n"
     ]
    }
   ],
   "source": [
    "print(f'total\\t{len(df_100)}')\n",
    "for tag_type in tags:\n",
    "    print(f'{tag_type}\\t{len(df_100[df_100.tag == tag_type])}')"
   ]
  },
  {
   "cell_type": "code",
   "execution_count": 28,
   "id": "86a574f2",
   "metadata": {},
   "outputs": [
    {
     "data": {
      "text/html": [
       "<div>\n",
       "<style scoped>\n",
       "    .dataframe tbody tr th:only-of-type {\n",
       "        vertical-align: middle;\n",
       "    }\n",
       "\n",
       "    .dataframe tbody tr th {\n",
       "        vertical-align: top;\n",
       "    }\n",
       "\n",
       "    .dataframe thead th {\n",
       "        text-align: right;\n",
       "    }\n",
       "</style>\n",
       "<table border=\"1\" class=\"dataframe\">\n",
       "  <thead>\n",
       "    <tr style=\"text-align: right;\">\n",
       "      <th></th>\n",
       "      <th>sentence</th>\n",
       "      <th>token</th>\n",
       "      <th>tag</th>\n",
       "    </tr>\n",
       "  </thead>\n",
       "  <tbody>\n",
       "    <tr>\n",
       "      <th>0</th>\n",
       "      <td>0</td>\n",
       "      <td>На</td>\n",
       "      <td>O</td>\n",
       "    </tr>\n",
       "    <tr>\n",
       "      <th>1</th>\n",
       "      <td>0</td>\n",
       "      <td>севере</td>\n",
       "      <td>O</td>\n",
       "    </tr>\n",
       "    <tr>\n",
       "      <th>2</th>\n",
       "      <td>0</td>\n",
       "      <td>граничит</td>\n",
       "      <td>O</td>\n",
       "    </tr>\n",
       "    <tr>\n",
       "      <th>3</th>\n",
       "      <td>0</td>\n",
       "      <td>с</td>\n",
       "      <td>O</td>\n",
       "    </tr>\n",
       "    <tr>\n",
       "      <th>4</th>\n",
       "      <td>0</td>\n",
       "      <td>Латвией</td>\n",
       "      <td>B-LOC</td>\n",
       "    </tr>\n",
       "    <tr>\n",
       "      <th>...</th>\n",
       "      <td>...</td>\n",
       "      <td>...</td>\n",
       "      <td>...</td>\n",
       "    </tr>\n",
       "    <tr>\n",
       "      <th>3495743</th>\n",
       "      <td>203208</td>\n",
       "      <td>и</td>\n",
       "      <td>O</td>\n",
       "    </tr>\n",
       "    <tr>\n",
       "      <th>3495744</th>\n",
       "      <td>203208</td>\n",
       "      <td>по</td>\n",
       "      <td>O</td>\n",
       "    </tr>\n",
       "    <tr>\n",
       "      <th>3495745</th>\n",
       "      <td>203208</td>\n",
       "      <td>экстремальному</td>\n",
       "      <td>O</td>\n",
       "    </tr>\n",
       "    <tr>\n",
       "      <th>3495746</th>\n",
       "      <td>203208</td>\n",
       "      <td>дизайну</td>\n",
       "      <td>O</td>\n",
       "    </tr>\n",
       "    <tr>\n",
       "      <th>3495747</th>\n",
       "      <td>203208</td>\n",
       "      <td>.</td>\n",
       "      <td>O</td>\n",
       "    </tr>\n",
       "  </tbody>\n",
       "</table>\n",
       "<p>3495748 rows × 3 columns</p>\n",
       "</div>"
      ],
      "text/plain": [
       "         sentence           token    tag\n",
       "0               0              На      O\n",
       "1               0          севере      O\n",
       "2               0        граничит      O\n",
       "3               0               с      O\n",
       "4               0         Латвией  B-LOC\n",
       "...           ...             ...    ...\n",
       "3495743    203208               и      O\n",
       "3495744    203208              по      O\n",
       "3495745    203208  экстремальному      O\n",
       "3495746    203208         дизайну      O\n",
       "3495747    203208               .      O\n",
       "\n",
       "[3495748 rows x 3 columns]"
      ]
     },
     "execution_count": 28,
     "metadata": {},
     "output_type": "execute_result"
    }
   ],
   "source": [
    "df_100"
   ]
  },
  {
   "cell_type": "code",
   "execution_count": 29,
   "id": "b43c7ced",
   "metadata": {},
   "outputs": [],
   "source": [
    "df_100.to_csv('data/wikiner/wikiner_words_100.csv', index=False)"
   ]
  },
  {
   "cell_type": "code",
   "execution_count": 56,
   "id": "688072bf",
   "metadata": {},
   "outputs": [],
   "source": [
    "df_nomisc = df_100.copy().replace({'B-MISC': 'O', 'I-MISC': 'O'})"
   ]
  },
  {
   "cell_type": "code",
   "execution_count": 57,
   "id": "bc6eb1d5",
   "metadata": {},
   "outputs": [
    {
     "data": {
      "text/html": [
       "<div>\n",
       "<style scoped>\n",
       "    .dataframe tbody tr th:only-of-type {\n",
       "        vertical-align: middle;\n",
       "    }\n",
       "\n",
       "    .dataframe tbody tr th {\n",
       "        vertical-align: top;\n",
       "    }\n",
       "\n",
       "    .dataframe thead th {\n",
       "        text-align: right;\n",
       "    }\n",
       "</style>\n",
       "<table border=\"1\" class=\"dataframe\">\n",
       "  <thead>\n",
       "    <tr style=\"text-align: right;\">\n",
       "      <th></th>\n",
       "      <th>sentence</th>\n",
       "      <th>token</th>\n",
       "      <th>tag</th>\n",
       "      <th>tag_n</th>\n",
       "    </tr>\n",
       "  </thead>\n",
       "  <tbody>\n",
       "    <tr>\n",
       "      <th>0</th>\n",
       "      <td>0</td>\n",
       "      <td>На</td>\n",
       "      <td>O</td>\n",
       "      <td>1.0</td>\n",
       "    </tr>\n",
       "    <tr>\n",
       "      <th>1</th>\n",
       "      <td>0</td>\n",
       "      <td>севере</td>\n",
       "      <td>O</td>\n",
       "      <td>1.0</td>\n",
       "    </tr>\n",
       "    <tr>\n",
       "      <th>2</th>\n",
       "      <td>0</td>\n",
       "      <td>граничит</td>\n",
       "      <td>O</td>\n",
       "      <td>1.0</td>\n",
       "    </tr>\n",
       "    <tr>\n",
       "      <th>3</th>\n",
       "      <td>0</td>\n",
       "      <td>с</td>\n",
       "      <td>O</td>\n",
       "      <td>1.0</td>\n",
       "    </tr>\n",
       "    <tr>\n",
       "      <th>4</th>\n",
       "      <td>0</td>\n",
       "      <td>Латвией</td>\n",
       "      <td>B-LOC</td>\n",
       "      <td>6.0</td>\n",
       "    </tr>\n",
       "    <tr>\n",
       "      <th>...</th>\n",
       "      <td>...</td>\n",
       "      <td>...</td>\n",
       "      <td>...</td>\n",
       "      <td>...</td>\n",
       "    </tr>\n",
       "    <tr>\n",
       "      <th>3495743</th>\n",
       "      <td>203208</td>\n",
       "      <td>и</td>\n",
       "      <td>O</td>\n",
       "      <td>1.0</td>\n",
       "    </tr>\n",
       "    <tr>\n",
       "      <th>3495744</th>\n",
       "      <td>203208</td>\n",
       "      <td>по</td>\n",
       "      <td>O</td>\n",
       "      <td>1.0</td>\n",
       "    </tr>\n",
       "    <tr>\n",
       "      <th>3495745</th>\n",
       "      <td>203208</td>\n",
       "      <td>экстремальному</td>\n",
       "      <td>O</td>\n",
       "      <td>1.0</td>\n",
       "    </tr>\n",
       "    <tr>\n",
       "      <th>3495746</th>\n",
       "      <td>203208</td>\n",
       "      <td>дизайну</td>\n",
       "      <td>O</td>\n",
       "      <td>1.0</td>\n",
       "    </tr>\n",
       "    <tr>\n",
       "      <th>3495747</th>\n",
       "      <td>203208</td>\n",
       "      <td>.</td>\n",
       "      <td>O</td>\n",
       "      <td>1.0</td>\n",
       "    </tr>\n",
       "  </tbody>\n",
       "</table>\n",
       "<p>3495748 rows × 4 columns</p>\n",
       "</div>"
      ],
      "text/plain": [
       "         sentence           token    tag  tag_n\n",
       "0               0              На      O    1.0\n",
       "1               0          севере      O    1.0\n",
       "2               0        граничит      O    1.0\n",
       "3               0               с      O    1.0\n",
       "4               0         Латвией  B-LOC    6.0\n",
       "...           ...             ...    ...    ...\n",
       "3495743    203208               и      O    1.0\n",
       "3495744    203208              по      O    1.0\n",
       "3495745    203208  экстремальному      O    1.0\n",
       "3495746    203208         дизайну      O    1.0\n",
       "3495747    203208               .      O    1.0\n",
       "\n",
       "[3495748 rows x 4 columns]"
      ]
     },
     "execution_count": 57,
     "metadata": {},
     "output_type": "execute_result"
    }
   ],
   "source": [
    "df_nomisc"
   ]
  },
  {
   "cell_type": "code",
   "execution_count": 58,
   "id": "979501bc",
   "metadata": {},
   "outputs": [
    {
     "data": {
      "text/plain": [
       "array(['O', 'B-LOC', 'I-LOC', 'B-PER', 'I-PER', 'B-ORG', 'I-ORG'],\n",
       "      dtype=object)"
      ]
     },
     "execution_count": 58,
     "metadata": {},
     "output_type": "execute_result"
    }
   ],
   "source": [
    "df_nomisc.tag.unique()"
   ]
  },
  {
   "cell_type": "code",
   "execution_count": 59,
   "id": "3d4fac93",
   "metadata": {},
   "outputs": [
    {
     "name": "stdout",
     "output_type": "stream",
     "text": [
      "total\t3495748\n",
      "O\t3103046\n",
      "B-PER\t71526\n",
      "I-PER\t64755\n",
      "B-ORG\t37105\n",
      "I-ORG\t26592\n",
      "B-LOC\t143902\n",
      "I-LOC\t48822\n",
      "B-MISC\t0\n",
      "I-MISC\t0\n"
     ]
    }
   ],
   "source": [
    "print(f'total\\t{len(df_nomisc)}')\n",
    "for tag_type in tags:\n",
    "    print(f'{tag_type}\\t{len(df_nomisc[df_nomisc.tag == tag_type])}')"
   ]
  },
  {
   "cell_type": "code",
   "execution_count": 60,
   "id": "c603945b",
   "metadata": {},
   "outputs": [],
   "source": [
    "tags_dict = {\n",
    "    'O': 1,\n",
    "    'B-PER': 2,\n",
    "    'I-PER': 3,\n",
    "    'B-ORG': 4,\n",
    "    'I-ORG': 5,\n",
    "    'B-LOC': 6,\n",
    "    'I-LOC': 7\n",
    "}"
   ]
  },
  {
   "cell_type": "code",
   "execution_count": 61,
   "id": "daf375a2",
   "metadata": {},
   "outputs": [],
   "source": [
    "df_nomisc['tag_n']= df_nomisc.tag.map(tags_dict).astype(np.uint8)"
   ]
  },
  {
   "cell_type": "code",
   "execution_count": 62,
   "id": "2511ea08",
   "metadata": {},
   "outputs": [
    {
     "data": {
      "text/html": [
       "<div>\n",
       "<style scoped>\n",
       "    .dataframe tbody tr th:only-of-type {\n",
       "        vertical-align: middle;\n",
       "    }\n",
       "\n",
       "    .dataframe tbody tr th {\n",
       "        vertical-align: top;\n",
       "    }\n",
       "\n",
       "    .dataframe thead th {\n",
       "        text-align: right;\n",
       "    }\n",
       "</style>\n",
       "<table border=\"1\" class=\"dataframe\">\n",
       "  <thead>\n",
       "    <tr style=\"text-align: right;\">\n",
       "      <th></th>\n",
       "      <th>sentence</th>\n",
       "      <th>token</th>\n",
       "      <th>tag</th>\n",
       "      <th>tag_n</th>\n",
       "    </tr>\n",
       "  </thead>\n",
       "  <tbody>\n",
       "    <tr>\n",
       "      <th>0</th>\n",
       "      <td>0</td>\n",
       "      <td>На</td>\n",
       "      <td>O</td>\n",
       "      <td>1</td>\n",
       "    </tr>\n",
       "    <tr>\n",
       "      <th>1</th>\n",
       "      <td>0</td>\n",
       "      <td>севере</td>\n",
       "      <td>O</td>\n",
       "      <td>1</td>\n",
       "    </tr>\n",
       "    <tr>\n",
       "      <th>2</th>\n",
       "      <td>0</td>\n",
       "      <td>граничит</td>\n",
       "      <td>O</td>\n",
       "      <td>1</td>\n",
       "    </tr>\n",
       "    <tr>\n",
       "      <th>3</th>\n",
       "      <td>0</td>\n",
       "      <td>с</td>\n",
       "      <td>O</td>\n",
       "      <td>1</td>\n",
       "    </tr>\n",
       "    <tr>\n",
       "      <th>4</th>\n",
       "      <td>0</td>\n",
       "      <td>Латвией</td>\n",
       "      <td>B-LOC</td>\n",
       "      <td>6</td>\n",
       "    </tr>\n",
       "    <tr>\n",
       "      <th>...</th>\n",
       "      <td>...</td>\n",
       "      <td>...</td>\n",
       "      <td>...</td>\n",
       "      <td>...</td>\n",
       "    </tr>\n",
       "    <tr>\n",
       "      <th>3495743</th>\n",
       "      <td>203208</td>\n",
       "      <td>и</td>\n",
       "      <td>O</td>\n",
       "      <td>1</td>\n",
       "    </tr>\n",
       "    <tr>\n",
       "      <th>3495744</th>\n",
       "      <td>203208</td>\n",
       "      <td>по</td>\n",
       "      <td>O</td>\n",
       "      <td>1</td>\n",
       "    </tr>\n",
       "    <tr>\n",
       "      <th>3495745</th>\n",
       "      <td>203208</td>\n",
       "      <td>экстремальному</td>\n",
       "      <td>O</td>\n",
       "      <td>1</td>\n",
       "    </tr>\n",
       "    <tr>\n",
       "      <th>3495746</th>\n",
       "      <td>203208</td>\n",
       "      <td>дизайну</td>\n",
       "      <td>O</td>\n",
       "      <td>1</td>\n",
       "    </tr>\n",
       "    <tr>\n",
       "      <th>3495747</th>\n",
       "      <td>203208</td>\n",
       "      <td>.</td>\n",
       "      <td>O</td>\n",
       "      <td>1</td>\n",
       "    </tr>\n",
       "  </tbody>\n",
       "</table>\n",
       "<p>3495748 rows × 4 columns</p>\n",
       "</div>"
      ],
      "text/plain": [
       "         sentence           token    tag  tag_n\n",
       "0               0              На      O      1\n",
       "1               0          севере      O      1\n",
       "2               0        граничит      O      1\n",
       "3               0               с      O      1\n",
       "4               0         Латвией  B-LOC      6\n",
       "...           ...             ...    ...    ...\n",
       "3495743    203208               и      O      1\n",
       "3495744    203208              по      O      1\n",
       "3495745    203208  экстремальному      O      1\n",
       "3495746    203208         дизайну      O      1\n",
       "3495747    203208               .      O      1\n",
       "\n",
       "[3495748 rows x 4 columns]"
      ]
     },
     "execution_count": 62,
     "metadata": {},
     "output_type": "execute_result"
    }
   ],
   "source": [
    "df_nomisc"
   ]
  },
  {
   "cell_type": "code",
   "execution_count": 63,
   "id": "3e2b8430",
   "metadata": {},
   "outputs": [],
   "source": [
    "df_nomisc.to_csv('data/wikiner/wikiner_words_nomisc_100.csv', index=False)"
   ]
  },
  {
   "cell_type": "code",
   "execution_count": 70,
   "id": "5d89160d",
   "metadata": {},
   "outputs": [],
   "source": [
    "sent_len_100 = [x for x in sent_len if not (x == 1 or x > 100)]"
   ]
  },
  {
   "cell_type": "code",
   "execution_count": 115,
   "id": "ada98801",
   "metadata": {},
   "outputs": [
    {
     "data": {
      "application/vnd.jupyter.widget-view+json": {
       "model_id": "cdf358516b574c359e353a3796103061",
       "version_major": 2,
       "version_minor": 0
      },
      "text/plain": [
       "  0%|          | 0/203209 [00:00<?, ?it/s]"
      ]
     },
     "metadata": {},
     "output_type": "display_data"
    }
   ],
   "source": [
    "x_out = []\n",
    "y_out = []\n",
    "\n",
    "prev_index = 0\n",
    "for i in tqdm(range(len(sent_len_100))):\n",
    "    l = prev_index + sent_len_100[i]\n",
    "    df_temp = df_nomisc.iloc[prev_index:l]\n",
    "    \n",
    "    x_out.append(df_temp.token.to_numpy())\n",
    "    y_out.append(df_temp.tag_n.to_numpy())\n",
    "    \n",
    "    prev_index += sent_len_100[i]"
   ]
  },
  {
   "cell_type": "code",
   "execution_count": 106,
   "id": "2bd312a0",
   "metadata": {},
   "outputs": [
    {
     "data": {
      "text/html": [
       "<div>\n",
       "<style scoped>\n",
       "    .dataframe tbody tr th:only-of-type {\n",
       "        vertical-align: middle;\n",
       "    }\n",
       "\n",
       "    .dataframe tbody tr th {\n",
       "        vertical-align: top;\n",
       "    }\n",
       "\n",
       "    .dataframe thead th {\n",
       "        text-align: right;\n",
       "    }\n",
       "</style>\n",
       "<table border=\"1\" class=\"dataframe\">\n",
       "  <thead>\n",
       "    <tr style=\"text-align: right;\">\n",
       "      <th></th>\n",
       "      <th>sentence</th>\n",
       "      <th>token</th>\n",
       "      <th>tag</th>\n",
       "      <th>tag_n</th>\n",
       "    </tr>\n",
       "  </thead>\n",
       "  <tbody>\n",
       "    <tr>\n",
       "      <th>3495721</th>\n",
       "      <td>203208</td>\n",
       "      <td>В</td>\n",
       "      <td>O</td>\n",
       "      <td>1</td>\n",
       "    </tr>\n",
       "    <tr>\n",
       "      <th>3495722</th>\n",
       "      <td>203208</td>\n",
       "      <td>результате</td>\n",
       "      <td>O</td>\n",
       "      <td>1</td>\n",
       "    </tr>\n",
       "    <tr>\n",
       "      <th>3495723</th>\n",
       "      <td>203208</td>\n",
       "      <td>его</td>\n",
       "      <td>O</td>\n",
       "      <td>1</td>\n",
       "    </tr>\n",
       "    <tr>\n",
       "      <th>3495724</th>\n",
       "      <td>203208</td>\n",
       "      <td>работы</td>\n",
       "      <td>O</td>\n",
       "      <td>1</td>\n",
       "    </tr>\n",
       "    <tr>\n",
       "      <th>3495725</th>\n",
       "      <td>203208</td>\n",
       "      <td>под</td>\n",
       "      <td>O</td>\n",
       "      <td>1</td>\n",
       "    </tr>\n",
       "    <tr>\n",
       "      <th>3495726</th>\n",
       "      <td>203208</td>\n",
       "      <td>маркой</td>\n",
       "      <td>O</td>\n",
       "      <td>1</td>\n",
       "    </tr>\n",
       "    <tr>\n",
       "      <th>3495727</th>\n",
       "      <td>203208</td>\n",
       "      <td>Stone</td>\n",
       "      <td>B-ORG</td>\n",
       "      <td>4</td>\n",
       "    </tr>\n",
       "    <tr>\n",
       "      <th>3495728</th>\n",
       "      <td>203208</td>\n",
       "      <td>Island</td>\n",
       "      <td>I-ORG</td>\n",
       "      <td>5</td>\n",
       "    </tr>\n",
       "    <tr>\n",
       "      <th>3495729</th>\n",
       "      <td>203208</td>\n",
       "      <td>стали</td>\n",
       "      <td>O</td>\n",
       "      <td>1</td>\n",
       "    </tr>\n",
       "    <tr>\n",
       "      <th>3495730</th>\n",
       "      <td>203208</td>\n",
       "      <td>появляться</td>\n",
       "      <td>O</td>\n",
       "      <td>1</td>\n",
       "    </tr>\n",
       "    <tr>\n",
       "      <th>3495731</th>\n",
       "      <td>203208</td>\n",
       "      <td>уникальные</td>\n",
       "      <td>O</td>\n",
       "      <td>1</td>\n",
       "    </tr>\n",
       "    <tr>\n",
       "      <th>3495732</th>\n",
       "      <td>203208</td>\n",
       "      <td>вещи</td>\n",
       "      <td>O</td>\n",
       "      <td>1</td>\n",
       "    </tr>\n",
       "    <tr>\n",
       "      <th>3495733</th>\n",
       "      <td>203208</td>\n",
       "      <td>как</td>\n",
       "      <td>O</td>\n",
       "      <td>1</td>\n",
       "    </tr>\n",
       "    <tr>\n",
       "      <th>3495734</th>\n",
       "      <td>203208</td>\n",
       "      <td>по</td>\n",
       "      <td>O</td>\n",
       "      <td>1</td>\n",
       "    </tr>\n",
       "    <tr>\n",
       "      <th>3495735</th>\n",
       "      <td>203208</td>\n",
       "      <td>качеству</td>\n",
       "      <td>O</td>\n",
       "      <td>1</td>\n",
       "    </tr>\n",
       "    <tr>\n",
       "      <th>3495736</th>\n",
       "      <td>203208</td>\n",
       "      <td>материала</td>\n",
       "      <td>O</td>\n",
       "      <td>1</td>\n",
       "    </tr>\n",
       "    <tr>\n",
       "      <th>3495737</th>\n",
       "      <td>203208</td>\n",
       "      <td>и</td>\n",
       "      <td>O</td>\n",
       "      <td>1</td>\n",
       "    </tr>\n",
       "    <tr>\n",
       "      <th>3495738</th>\n",
       "      <td>203208</td>\n",
       "      <td>технологиям</td>\n",
       "      <td>O</td>\n",
       "      <td>1</td>\n",
       "    </tr>\n",
       "    <tr>\n",
       "      <th>3495739</th>\n",
       "      <td>203208</td>\n",
       "      <td>его</td>\n",
       "      <td>O</td>\n",
       "      <td>1</td>\n",
       "    </tr>\n",
       "    <tr>\n",
       "      <th>3495740</th>\n",
       "      <td>203208</td>\n",
       "      <td>обработки</td>\n",
       "      <td>O</td>\n",
       "      <td>1</td>\n",
       "    </tr>\n",
       "    <tr>\n",
       "      <th>3495741</th>\n",
       "      <td>203208</td>\n",
       "      <td>,</td>\n",
       "      <td>O</td>\n",
       "      <td>1</td>\n",
       "    </tr>\n",
       "    <tr>\n",
       "      <th>3495742</th>\n",
       "      <td>203208</td>\n",
       "      <td>так</td>\n",
       "      <td>O</td>\n",
       "      <td>1</td>\n",
       "    </tr>\n",
       "    <tr>\n",
       "      <th>3495743</th>\n",
       "      <td>203208</td>\n",
       "      <td>и</td>\n",
       "      <td>O</td>\n",
       "      <td>1</td>\n",
       "    </tr>\n",
       "    <tr>\n",
       "      <th>3495744</th>\n",
       "      <td>203208</td>\n",
       "      <td>по</td>\n",
       "      <td>O</td>\n",
       "      <td>1</td>\n",
       "    </tr>\n",
       "    <tr>\n",
       "      <th>3495745</th>\n",
       "      <td>203208</td>\n",
       "      <td>экстремальному</td>\n",
       "      <td>O</td>\n",
       "      <td>1</td>\n",
       "    </tr>\n",
       "    <tr>\n",
       "      <th>3495746</th>\n",
       "      <td>203208</td>\n",
       "      <td>дизайну</td>\n",
       "      <td>O</td>\n",
       "      <td>1</td>\n",
       "    </tr>\n",
       "    <tr>\n",
       "      <th>3495747</th>\n",
       "      <td>203208</td>\n",
       "      <td>.</td>\n",
       "      <td>O</td>\n",
       "      <td>1</td>\n",
       "    </tr>\n",
       "  </tbody>\n",
       "</table>\n",
       "</div>"
      ],
      "text/plain": [
       "         sentence           token    tag  tag_n\n",
       "3495721    203208               В      O      1\n",
       "3495722    203208      результате      O      1\n",
       "3495723    203208             его      O      1\n",
       "3495724    203208          работы      O      1\n",
       "3495725    203208             под      O      1\n",
       "3495726    203208          маркой      O      1\n",
       "3495727    203208           Stone  B-ORG      4\n",
       "3495728    203208          Island  I-ORG      5\n",
       "3495729    203208           стали      O      1\n",
       "3495730    203208      появляться      O      1\n",
       "3495731    203208      уникальные      O      1\n",
       "3495732    203208            вещи      O      1\n",
       "3495733    203208             как      O      1\n",
       "3495734    203208              по      O      1\n",
       "3495735    203208        качеству      O      1\n",
       "3495736    203208       материала      O      1\n",
       "3495737    203208               и      O      1\n",
       "3495738    203208     технологиям      O      1\n",
       "3495739    203208             его      O      1\n",
       "3495740    203208       обработки      O      1\n",
       "3495741    203208               ,      O      1\n",
       "3495742    203208             так      O      1\n",
       "3495743    203208               и      O      1\n",
       "3495744    203208              по      O      1\n",
       "3495745    203208  экстремальному      O      1\n",
       "3495746    203208         дизайну      O      1\n",
       "3495747    203208               .      O      1"
      ]
     },
     "execution_count": 106,
     "metadata": {},
     "output_type": "execute_result"
    }
   ],
   "source": [
    "df_temp"
   ]
  },
  {
   "cell_type": "code",
   "execution_count": 80,
   "id": "993313b6",
   "metadata": {},
   "outputs": [],
   "source": [
    "# x_out = []\n",
    "# y_out = []\n",
    "\n",
    "# for i in tqdm(range(df_nomisc.sentence.max())):\n",
    "#     df_temp = df_nomisc[df_nomisc.sentence==i]\n",
    "#     x_out.append([df_temp.token.to_numpy()])\n",
    "#     y_out.append([df_temp.tag_n.to_numpy()])"
   ]
  },
  {
   "cell_type": "code",
   "execution_count": 116,
   "id": "f88f74e3",
   "metadata": {},
   "outputs": [
    {
     "data": {
      "text/plain": [
       "array(['В', 'результате', 'его', 'работы', 'под', 'маркой', 'Stone',\n",
       "       'Island', 'стали', 'появляться', 'уникальные', 'вещи', 'как', 'по',\n",
       "       'качеству', 'материала', 'и', 'технологиям', 'его', 'обработки',\n",
       "       ',', 'так', 'и', 'по', 'экстремальному', 'дизайну', '.'],\n",
       "      dtype=object)"
      ]
     },
     "execution_count": 116,
     "metadata": {},
     "output_type": "execute_result"
    }
   ],
   "source": [
    "x_out[-1]"
   ]
  },
  {
   "cell_type": "code",
   "execution_count": 117,
   "id": "987275b3",
   "metadata": {},
   "outputs": [
    {
     "data": {
      "text/plain": [
       "array([1, 1, 1, 1, 1, 1, 4, 5, 1, 1, 1, 1, 1, 1, 1, 1, 1, 1, 1, 1, 1, 1,\n",
       "       1, 1, 1, 1, 1], dtype=uint8)"
      ]
     },
     "execution_count": 117,
     "metadata": {},
     "output_type": "execute_result"
    }
   ],
   "source": [
    "y_out[-1]"
   ]
  },
  {
   "cell_type": "code",
   "execution_count": 118,
   "id": "a245da2f",
   "metadata": {},
   "outputs": [],
   "source": [
    "with open(r'C:\\Users\\Egor\\Desktop\\python\\VKR\\data\\wikiner\\wikiner_x_100.pickle', 'wb') as f:\n",
    "    pickle.dump(x_out, f)\n",
    "\n",
    "with open(r'C:\\Users\\Egor\\Desktop\\python\\VKR\\data\\wikiner\\wikiner_y_100.pickle', 'wb') as f:\n",
    "    pickle.dump(y_out, f)\n",
    "\n",
    "# with open(r'C:\\Users\\Egor\\Desktop\\python\\VKR\\data\\wikiner\\wikiner_x_100.pickle', 'rb') as f:\n",
    "#     x_out = pickle.load(f)\n",
    "    \n",
    "# with open(r'C:\\Users\\Egor\\Desktop\\python\\VKR\\data\\wikiner\\wikiner_y_100.pickle', 'rb') as f:\n",
    "#     y_out = pickle.load(f)"
   ]
  },
  {
   "cell_type": "code",
   "execution_count": null,
   "id": "36012bd6",
   "metadata": {},
   "outputs": [],
   "source": []
  }
 ],
 "metadata": {
  "kernelspec": {
   "display_name": "Python 3 (ipykernel)",
   "language": "python",
   "name": "python3"
  },
  "language_info": {
   "codemirror_mode": {
    "name": "ipython",
    "version": 3
   },
   "file_extension": ".py",
   "mimetype": "text/x-python",
   "name": "python",
   "nbconvert_exporter": "python",
   "pygments_lexer": "ipython3",
   "version": "3.9.13"
  }
 },
 "nbformat": 4,
 "nbformat_minor": 5
}
